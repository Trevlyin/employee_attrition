{
 "cells": [
  {
   "cell_type": "markdown",
   "metadata": {},
   "source": [
    "# Part I - (IBM HR - Employee Attrition Analysis)\n",
    "## by Trevlyin M I Muzinda\n",
    "\n",
    "## Introduction\n",
    "\n",
    "The HR Employee Attrition dataset is a fictional dataset pulled together by IBM specialists and made available through the [data.world](https://data.world/aaizemberg/hr-employee-attrition) platform. It contains information on employees demographic and other situational standings with attrition status.\n",
    "\n",
    "> Attrition is defined by [Gatner](https://www.gartner.com/en/human-resources/glossary/attrition#:~:text=Attrition%20is%20the%20departure%20of,%2C%20termination%2C%20death%20or%20retirement.) as the departure of employees from the organization for any reason (voluntary or involuntary), including resignation, termination, death or retirement. **Attrition rate** is the rate at which employees leave an organization divided by the average number of employees at the organization over a given period of time.\n",
    "\n",
    "Some of the ordinal categorical variables in the dataset was given a rating attained from the same author via [Kaggle](https://www.kaggle.com/datasets/pavansubhasht/ibm-hr-analytics-attrition-dataset):\n",
    "\n",
    "`Education`\n",
    "\n",
    "1 'Below College'\n",
    "\n",
    "2 'College'\n",
    "\n",
    "3 'Bachelor'\n",
    "\n",
    "4 'Master'\n",
    "\n",
    "5 'Doctor'\n",
    "\n",
    "`EnvironmentSatisfaction`\n",
    "\n",
    "1 'Low'\n",
    "\n",
    "2 'Medium'\n",
    "\n",
    "3 'High'\n",
    "\n",
    "4 'Very High'\n",
    "\n",
    "`JobInvolvement`\n",
    "\n",
    "1 'Low'\n",
    "\n",
    "2 'Medium'\n",
    "\n",
    "3 'High'\n",
    "\n",
    "4 'Very High'\n",
    "\n",
    "`JobSatisfaction`\n",
    "\n",
    "1 'Low'\n",
    "\n",
    "2 'Medium'\n",
    "\n",
    "3 'High'\n",
    "\n",
    "4 'Very High'\n",
    "\n",
    "`PerformanceRating`\n",
    "\n",
    "1 'Low'\n",
    "\n",
    "2 'Good'\n",
    "\n",
    "3 'Excellent'\n",
    "\n",
    "4 'Outstanding'\n",
    "\n",
    "`RelationshipSatisfaction`\n",
    "\n",
    "1 'Low'\n",
    "\n",
    "2 'Medium'\n",
    "\n",
    "3 'High'\n",
    "\n",
    "4 'Very High'\n",
    "\n",
    "`WorkLifeBalance`\n",
    "\n",
    "1 'Bad'\n",
    "\n",
    "2 'Good'\n",
    "\n",
    "3 'Better'\n",
    "\n",
    "4 'Best'\n",
    "\n",
    "\n",
    "### Research Questions\n",
    "\n",
    "The goal of this analysis is to attain the attrition rate and the possible factors which may give rise or decrease to this rate. Hence the questions will be formulated on the basis on the features that have an effect on the target `Attrition`.\n",
    "\n",
    "\n",
    "\n",
    "## Preliminary Wrangling\n"
   ]
  },
  {
   "cell_type": "code",
   "execution_count": 65,
   "metadata": {},
   "outputs": [],
   "source": [
    "# import all packages and set plots to be embedded inline\n",
    "import numpy as np\n",
    "import pandas as pd\n",
    "import matplotlib.pyplot as plt\n",
    "import seaborn as sb\n",
    "\n",
    "%matplotlib inline"
   ]
  },
  {
   "cell_type": "code",
   "execution_count": 66,
   "metadata": {},
   "outputs": [
    {
     "data": {
      "text/html": [
       "<div>\n",
       "<style scoped>\n",
       "    .dataframe tbody tr th:only-of-type {\n",
       "        vertical-align: middle;\n",
       "    }\n",
       "\n",
       "    .dataframe tbody tr th {\n",
       "        vertical-align: top;\n",
       "    }\n",
       "\n",
       "    .dataframe thead th {\n",
       "        text-align: right;\n",
       "    }\n",
       "</style>\n",
       "<table border=\"1\" class=\"dataframe\">\n",
       "  <thead>\n",
       "    <tr style=\"text-align: right;\">\n",
       "      <th></th>\n",
       "      <th>Age</th>\n",
       "      <th>Attrition</th>\n",
       "      <th>BusinessTravel</th>\n",
       "      <th>DailyRate</th>\n",
       "      <th>Department</th>\n",
       "      <th>DistanceFromHome</th>\n",
       "      <th>Education</th>\n",
       "      <th>EducationField</th>\n",
       "      <th>EmployeeCount</th>\n",
       "      <th>EmployeeNumber</th>\n",
       "      <th>...</th>\n",
       "      <th>RelationshipSatisfaction</th>\n",
       "      <th>StandardHours</th>\n",
       "      <th>StockOptionLevel</th>\n",
       "      <th>TotalWorkingYears</th>\n",
       "      <th>TrainingTimesLastYear</th>\n",
       "      <th>WorkLifeBalance</th>\n",
       "      <th>YearsAtCompany</th>\n",
       "      <th>YearsInCurrentRole</th>\n",
       "      <th>YearsSinceLastPromotion</th>\n",
       "      <th>YearsWithCurrManager</th>\n",
       "    </tr>\n",
       "  </thead>\n",
       "  <tbody>\n",
       "    <tr>\n",
       "      <th>0</th>\n",
       "      <td>41</td>\n",
       "      <td>Yes</td>\n",
       "      <td>Travel_Rarely</td>\n",
       "      <td>1102</td>\n",
       "      <td>Sales</td>\n",
       "      <td>1</td>\n",
       "      <td>2</td>\n",
       "      <td>Life Sciences</td>\n",
       "      <td>1</td>\n",
       "      <td>1</td>\n",
       "      <td>...</td>\n",
       "      <td>1</td>\n",
       "      <td>80</td>\n",
       "      <td>0</td>\n",
       "      <td>8</td>\n",
       "      <td>0</td>\n",
       "      <td>1</td>\n",
       "      <td>6</td>\n",
       "      <td>4</td>\n",
       "      <td>0</td>\n",
       "      <td>5</td>\n",
       "    </tr>\n",
       "    <tr>\n",
       "      <th>1</th>\n",
       "      <td>49</td>\n",
       "      <td>No</td>\n",
       "      <td>Travel_Frequently</td>\n",
       "      <td>279</td>\n",
       "      <td>Research &amp; Development</td>\n",
       "      <td>8</td>\n",
       "      <td>1</td>\n",
       "      <td>Life Sciences</td>\n",
       "      <td>1</td>\n",
       "      <td>2</td>\n",
       "      <td>...</td>\n",
       "      <td>4</td>\n",
       "      <td>80</td>\n",
       "      <td>1</td>\n",
       "      <td>10</td>\n",
       "      <td>3</td>\n",
       "      <td>3</td>\n",
       "      <td>10</td>\n",
       "      <td>7</td>\n",
       "      <td>1</td>\n",
       "      <td>7</td>\n",
       "    </tr>\n",
       "    <tr>\n",
       "      <th>2</th>\n",
       "      <td>37</td>\n",
       "      <td>Yes</td>\n",
       "      <td>Travel_Rarely</td>\n",
       "      <td>1373</td>\n",
       "      <td>Research &amp; Development</td>\n",
       "      <td>2</td>\n",
       "      <td>2</td>\n",
       "      <td>Other</td>\n",
       "      <td>1</td>\n",
       "      <td>4</td>\n",
       "      <td>...</td>\n",
       "      <td>2</td>\n",
       "      <td>80</td>\n",
       "      <td>0</td>\n",
       "      <td>7</td>\n",
       "      <td>3</td>\n",
       "      <td>3</td>\n",
       "      <td>0</td>\n",
       "      <td>0</td>\n",
       "      <td>0</td>\n",
       "      <td>0</td>\n",
       "    </tr>\n",
       "    <tr>\n",
       "      <th>3</th>\n",
       "      <td>33</td>\n",
       "      <td>No</td>\n",
       "      <td>Travel_Frequently</td>\n",
       "      <td>1392</td>\n",
       "      <td>Research &amp; Development</td>\n",
       "      <td>3</td>\n",
       "      <td>4</td>\n",
       "      <td>Life Sciences</td>\n",
       "      <td>1</td>\n",
       "      <td>5</td>\n",
       "      <td>...</td>\n",
       "      <td>3</td>\n",
       "      <td>80</td>\n",
       "      <td>0</td>\n",
       "      <td>8</td>\n",
       "      <td>3</td>\n",
       "      <td>3</td>\n",
       "      <td>8</td>\n",
       "      <td>7</td>\n",
       "      <td>3</td>\n",
       "      <td>0</td>\n",
       "    </tr>\n",
       "    <tr>\n",
       "      <th>4</th>\n",
       "      <td>27</td>\n",
       "      <td>No</td>\n",
       "      <td>Travel_Rarely</td>\n",
       "      <td>591</td>\n",
       "      <td>Research &amp; Development</td>\n",
       "      <td>2</td>\n",
       "      <td>1</td>\n",
       "      <td>Medical</td>\n",
       "      <td>1</td>\n",
       "      <td>7</td>\n",
       "      <td>...</td>\n",
       "      <td>4</td>\n",
       "      <td>80</td>\n",
       "      <td>1</td>\n",
       "      <td>6</td>\n",
       "      <td>3</td>\n",
       "      <td>3</td>\n",
       "      <td>2</td>\n",
       "      <td>2</td>\n",
       "      <td>2</td>\n",
       "      <td>2</td>\n",
       "    </tr>\n",
       "  </tbody>\n",
       "</table>\n",
       "<p>5 rows × 35 columns</p>\n",
       "</div>"
      ],
      "text/plain": [
       "   Age Attrition     BusinessTravel  DailyRate              Department  \\\n",
       "0   41       Yes      Travel_Rarely       1102                   Sales   \n",
       "1   49        No  Travel_Frequently        279  Research & Development   \n",
       "2   37       Yes      Travel_Rarely       1373  Research & Development   \n",
       "3   33        No  Travel_Frequently       1392  Research & Development   \n",
       "4   27        No      Travel_Rarely        591  Research & Development   \n",
       "\n",
       "   DistanceFromHome  Education EducationField  EmployeeCount  EmployeeNumber  \\\n",
       "0                 1          2  Life Sciences              1               1   \n",
       "1                 8          1  Life Sciences              1               2   \n",
       "2                 2          2          Other              1               4   \n",
       "3                 3          4  Life Sciences              1               5   \n",
       "4                 2          1        Medical              1               7   \n",
       "\n",
       "   ...  RelationshipSatisfaction StandardHours  StockOptionLevel  \\\n",
       "0  ...                         1            80                 0   \n",
       "1  ...                         4            80                 1   \n",
       "2  ...                         2            80                 0   \n",
       "3  ...                         3            80                 0   \n",
       "4  ...                         4            80                 1   \n",
       "\n",
       "   TotalWorkingYears  TrainingTimesLastYear WorkLifeBalance  YearsAtCompany  \\\n",
       "0                  8                      0               1               6   \n",
       "1                 10                      3               3              10   \n",
       "2                  7                      3               3               0   \n",
       "3                  8                      3               3               8   \n",
       "4                  6                      3               3               2   \n",
       "\n",
       "  YearsInCurrentRole  YearsSinceLastPromotion  YearsWithCurrManager  \n",
       "0                  4                        0                     5  \n",
       "1                  7                        1                     7  \n",
       "2                  0                        0                     0  \n",
       "3                  7                        3                     0  \n",
       "4                  2                        2                     2  \n",
       "\n",
       "[5 rows x 35 columns]"
      ]
     },
     "execution_count": 66,
     "metadata": {},
     "output_type": "execute_result"
    }
   ],
   "source": [
    "#Loading dataset\n",
    "df_hr = pd.read_csv('./HR-Employee-Attrition.tsv.txt', sep='\\t')\n",
    "df_hr.head()"
   ]
  },
  {
   "cell_type": "code",
   "execution_count": 67,
   "metadata": {},
   "outputs": [
    {
     "data": {
      "text/plain": [
       "(1470, 35)"
      ]
     },
     "execution_count": 67,
     "metadata": {},
     "output_type": "execute_result"
    }
   ],
   "source": [
    "# looking at the dataset structure (rows, columns)\n",
    "df_hr.shape"
   ]
  },
  {
   "cell_type": "code",
   "execution_count": 68,
   "metadata": {},
   "outputs": [
    {
     "name": "stdout",
     "output_type": "stream",
     "text": [
      "<class 'pandas.core.frame.DataFrame'>\n",
      "RangeIndex: 1470 entries, 0 to 1469\n",
      "Data columns (total 35 columns):\n",
      " #   Column                    Non-Null Count  Dtype \n",
      "---  ------                    --------------  ----- \n",
      " 0   Age                       1470 non-null   int64 \n",
      " 1   Attrition                 1470 non-null   object\n",
      " 2   BusinessTravel            1470 non-null   object\n",
      " 3   DailyRate                 1470 non-null   int64 \n",
      " 4   Department                1470 non-null   object\n",
      " 5   DistanceFromHome          1470 non-null   int64 \n",
      " 6   Education                 1470 non-null   int64 \n",
      " 7   EducationField            1470 non-null   object\n",
      " 8   EmployeeCount             1470 non-null   int64 \n",
      " 9   EmployeeNumber            1470 non-null   int64 \n",
      " 10  EnvironmentSatisfaction   1470 non-null   int64 \n",
      " 11  Gender                    1470 non-null   object\n",
      " 12  HourlyRate                1470 non-null   int64 \n",
      " 13  JobInvolvement            1470 non-null   int64 \n",
      " 14  JobLevel                  1470 non-null   int64 \n",
      " 15  JobRole                   1470 non-null   object\n",
      " 16  JobSatisfaction           1470 non-null   int64 \n",
      " 17  MaritalStatus             1470 non-null   object\n",
      " 18  MonthlyIncome             1470 non-null   int64 \n",
      " 19  MonthlyRate               1470 non-null   int64 \n",
      " 20  NumCompaniesWorked        1470 non-null   int64 \n",
      " 21  Over18                    1470 non-null   object\n",
      " 22  OverTime                  1470 non-null   object\n",
      " 23  PercentSalaryHike         1470 non-null   int64 \n",
      " 24  PerformanceRating         1470 non-null   int64 \n",
      " 25  RelationshipSatisfaction  1470 non-null   int64 \n",
      " 26  StandardHours             1470 non-null   int64 \n",
      " 27  StockOptionLevel          1470 non-null   int64 \n",
      " 28  TotalWorkingYears         1470 non-null   int64 \n",
      " 29  TrainingTimesLastYear     1470 non-null   int64 \n",
      " 30  WorkLifeBalance           1470 non-null   int64 \n",
      " 31  YearsAtCompany            1470 non-null   int64 \n",
      " 32  YearsInCurrentRole        1470 non-null   int64 \n",
      " 33  YearsSinceLastPromotion   1470 non-null   int64 \n",
      " 34  YearsWithCurrManager      1470 non-null   int64 \n",
      "dtypes: int64(26), object(9)\n",
      "memory usage: 402.1+ KB\n"
     ]
    }
   ],
   "source": [
    "df_hr.info()"
   ]
  },
  {
   "cell_type": "code",
   "execution_count": 69,
   "metadata": {},
   "outputs": [
    {
     "data": {
      "text/html": [
       "<div>\n",
       "<style scoped>\n",
       "    .dataframe tbody tr th:only-of-type {\n",
       "        vertical-align: middle;\n",
       "    }\n",
       "\n",
       "    .dataframe tbody tr th {\n",
       "        vertical-align: top;\n",
       "    }\n",
       "\n",
       "    .dataframe thead th {\n",
       "        text-align: right;\n",
       "    }\n",
       "</style>\n",
       "<table border=\"1\" class=\"dataframe\">\n",
       "  <thead>\n",
       "    <tr style=\"text-align: right;\">\n",
       "      <th></th>\n",
       "      <th>count</th>\n",
       "      <th>mean</th>\n",
       "      <th>std</th>\n",
       "      <th>min</th>\n",
       "      <th>25%</th>\n",
       "      <th>50%</th>\n",
       "      <th>75%</th>\n",
       "      <th>max</th>\n",
       "    </tr>\n",
       "  </thead>\n",
       "  <tbody>\n",
       "    <tr>\n",
       "      <th>Age</th>\n",
       "      <td>1470.0</td>\n",
       "      <td>36.923810</td>\n",
       "      <td>9.135373</td>\n",
       "      <td>18.0</td>\n",
       "      <td>30.00</td>\n",
       "      <td>36.0</td>\n",
       "      <td>43.00</td>\n",
       "      <td>60.0</td>\n",
       "    </tr>\n",
       "    <tr>\n",
       "      <th>DailyRate</th>\n",
       "      <td>1470.0</td>\n",
       "      <td>802.485714</td>\n",
       "      <td>403.509100</td>\n",
       "      <td>102.0</td>\n",
       "      <td>465.00</td>\n",
       "      <td>802.0</td>\n",
       "      <td>1157.00</td>\n",
       "      <td>1499.0</td>\n",
       "    </tr>\n",
       "    <tr>\n",
       "      <th>DistanceFromHome</th>\n",
       "      <td>1470.0</td>\n",
       "      <td>9.192517</td>\n",
       "      <td>8.106864</td>\n",
       "      <td>1.0</td>\n",
       "      <td>2.00</td>\n",
       "      <td>7.0</td>\n",
       "      <td>14.00</td>\n",
       "      <td>29.0</td>\n",
       "    </tr>\n",
       "    <tr>\n",
       "      <th>Education</th>\n",
       "      <td>1470.0</td>\n",
       "      <td>2.912925</td>\n",
       "      <td>1.024165</td>\n",
       "      <td>1.0</td>\n",
       "      <td>2.00</td>\n",
       "      <td>3.0</td>\n",
       "      <td>4.00</td>\n",
       "      <td>5.0</td>\n",
       "    </tr>\n",
       "    <tr>\n",
       "      <th>EmployeeCount</th>\n",
       "      <td>1470.0</td>\n",
       "      <td>1.000000</td>\n",
       "      <td>0.000000</td>\n",
       "      <td>1.0</td>\n",
       "      <td>1.00</td>\n",
       "      <td>1.0</td>\n",
       "      <td>1.00</td>\n",
       "      <td>1.0</td>\n",
       "    </tr>\n",
       "    <tr>\n",
       "      <th>EmployeeNumber</th>\n",
       "      <td>1470.0</td>\n",
       "      <td>1024.865306</td>\n",
       "      <td>602.024335</td>\n",
       "      <td>1.0</td>\n",
       "      <td>491.25</td>\n",
       "      <td>1020.5</td>\n",
       "      <td>1555.75</td>\n",
       "      <td>2068.0</td>\n",
       "    </tr>\n",
       "    <tr>\n",
       "      <th>EnvironmentSatisfaction</th>\n",
       "      <td>1470.0</td>\n",
       "      <td>2.721769</td>\n",
       "      <td>1.093082</td>\n",
       "      <td>1.0</td>\n",
       "      <td>2.00</td>\n",
       "      <td>3.0</td>\n",
       "      <td>4.00</td>\n",
       "      <td>4.0</td>\n",
       "    </tr>\n",
       "    <tr>\n",
       "      <th>HourlyRate</th>\n",
       "      <td>1470.0</td>\n",
       "      <td>65.891156</td>\n",
       "      <td>20.329428</td>\n",
       "      <td>30.0</td>\n",
       "      <td>48.00</td>\n",
       "      <td>66.0</td>\n",
       "      <td>83.75</td>\n",
       "      <td>100.0</td>\n",
       "    </tr>\n",
       "    <tr>\n",
       "      <th>JobInvolvement</th>\n",
       "      <td>1470.0</td>\n",
       "      <td>2.729932</td>\n",
       "      <td>0.711561</td>\n",
       "      <td>1.0</td>\n",
       "      <td>2.00</td>\n",
       "      <td>3.0</td>\n",
       "      <td>3.00</td>\n",
       "      <td>4.0</td>\n",
       "    </tr>\n",
       "    <tr>\n",
       "      <th>JobLevel</th>\n",
       "      <td>1470.0</td>\n",
       "      <td>2.063946</td>\n",
       "      <td>1.106940</td>\n",
       "      <td>1.0</td>\n",
       "      <td>1.00</td>\n",
       "      <td>2.0</td>\n",
       "      <td>3.00</td>\n",
       "      <td>5.0</td>\n",
       "    </tr>\n",
       "    <tr>\n",
       "      <th>JobSatisfaction</th>\n",
       "      <td>1470.0</td>\n",
       "      <td>2.728571</td>\n",
       "      <td>1.102846</td>\n",
       "      <td>1.0</td>\n",
       "      <td>2.00</td>\n",
       "      <td>3.0</td>\n",
       "      <td>4.00</td>\n",
       "      <td>4.0</td>\n",
       "    </tr>\n",
       "    <tr>\n",
       "      <th>MonthlyIncome</th>\n",
       "      <td>1470.0</td>\n",
       "      <td>6502.931293</td>\n",
       "      <td>4707.956783</td>\n",
       "      <td>1009.0</td>\n",
       "      <td>2911.00</td>\n",
       "      <td>4919.0</td>\n",
       "      <td>8379.00</td>\n",
       "      <td>19999.0</td>\n",
       "    </tr>\n",
       "    <tr>\n",
       "      <th>MonthlyRate</th>\n",
       "      <td>1470.0</td>\n",
       "      <td>14313.103401</td>\n",
       "      <td>7117.786044</td>\n",
       "      <td>2094.0</td>\n",
       "      <td>8047.00</td>\n",
       "      <td>14235.5</td>\n",
       "      <td>20461.50</td>\n",
       "      <td>26999.0</td>\n",
       "    </tr>\n",
       "    <tr>\n",
       "      <th>NumCompaniesWorked</th>\n",
       "      <td>1470.0</td>\n",
       "      <td>2.693197</td>\n",
       "      <td>2.498009</td>\n",
       "      <td>0.0</td>\n",
       "      <td>1.00</td>\n",
       "      <td>2.0</td>\n",
       "      <td>4.00</td>\n",
       "      <td>9.0</td>\n",
       "    </tr>\n",
       "    <tr>\n",
       "      <th>PercentSalaryHike</th>\n",
       "      <td>1470.0</td>\n",
       "      <td>15.209524</td>\n",
       "      <td>3.659938</td>\n",
       "      <td>11.0</td>\n",
       "      <td>12.00</td>\n",
       "      <td>14.0</td>\n",
       "      <td>18.00</td>\n",
       "      <td>25.0</td>\n",
       "    </tr>\n",
       "    <tr>\n",
       "      <th>PerformanceRating</th>\n",
       "      <td>1470.0</td>\n",
       "      <td>3.153741</td>\n",
       "      <td>0.360824</td>\n",
       "      <td>3.0</td>\n",
       "      <td>3.00</td>\n",
       "      <td>3.0</td>\n",
       "      <td>3.00</td>\n",
       "      <td>4.0</td>\n",
       "    </tr>\n",
       "    <tr>\n",
       "      <th>RelationshipSatisfaction</th>\n",
       "      <td>1470.0</td>\n",
       "      <td>2.712245</td>\n",
       "      <td>1.081209</td>\n",
       "      <td>1.0</td>\n",
       "      <td>2.00</td>\n",
       "      <td>3.0</td>\n",
       "      <td>4.00</td>\n",
       "      <td>4.0</td>\n",
       "    </tr>\n",
       "    <tr>\n",
       "      <th>StandardHours</th>\n",
       "      <td>1470.0</td>\n",
       "      <td>80.000000</td>\n",
       "      <td>0.000000</td>\n",
       "      <td>80.0</td>\n",
       "      <td>80.00</td>\n",
       "      <td>80.0</td>\n",
       "      <td>80.00</td>\n",
       "      <td>80.0</td>\n",
       "    </tr>\n",
       "    <tr>\n",
       "      <th>StockOptionLevel</th>\n",
       "      <td>1470.0</td>\n",
       "      <td>0.793878</td>\n",
       "      <td>0.852077</td>\n",
       "      <td>0.0</td>\n",
       "      <td>0.00</td>\n",
       "      <td>1.0</td>\n",
       "      <td>1.00</td>\n",
       "      <td>3.0</td>\n",
       "    </tr>\n",
       "    <tr>\n",
       "      <th>TotalWorkingYears</th>\n",
       "      <td>1470.0</td>\n",
       "      <td>11.279592</td>\n",
       "      <td>7.780782</td>\n",
       "      <td>0.0</td>\n",
       "      <td>6.00</td>\n",
       "      <td>10.0</td>\n",
       "      <td>15.00</td>\n",
       "      <td>40.0</td>\n",
       "    </tr>\n",
       "    <tr>\n",
       "      <th>TrainingTimesLastYear</th>\n",
       "      <td>1470.0</td>\n",
       "      <td>2.799320</td>\n",
       "      <td>1.289271</td>\n",
       "      <td>0.0</td>\n",
       "      <td>2.00</td>\n",
       "      <td>3.0</td>\n",
       "      <td>3.00</td>\n",
       "      <td>6.0</td>\n",
       "    </tr>\n",
       "    <tr>\n",
       "      <th>WorkLifeBalance</th>\n",
       "      <td>1470.0</td>\n",
       "      <td>2.761224</td>\n",
       "      <td>0.706476</td>\n",
       "      <td>1.0</td>\n",
       "      <td>2.00</td>\n",
       "      <td>3.0</td>\n",
       "      <td>3.00</td>\n",
       "      <td>4.0</td>\n",
       "    </tr>\n",
       "    <tr>\n",
       "      <th>YearsAtCompany</th>\n",
       "      <td>1470.0</td>\n",
       "      <td>7.008163</td>\n",
       "      <td>6.126525</td>\n",
       "      <td>0.0</td>\n",
       "      <td>3.00</td>\n",
       "      <td>5.0</td>\n",
       "      <td>9.00</td>\n",
       "      <td>40.0</td>\n",
       "    </tr>\n",
       "    <tr>\n",
       "      <th>YearsInCurrentRole</th>\n",
       "      <td>1470.0</td>\n",
       "      <td>4.229252</td>\n",
       "      <td>3.623137</td>\n",
       "      <td>0.0</td>\n",
       "      <td>2.00</td>\n",
       "      <td>3.0</td>\n",
       "      <td>7.00</td>\n",
       "      <td>18.0</td>\n",
       "    </tr>\n",
       "    <tr>\n",
       "      <th>YearsSinceLastPromotion</th>\n",
       "      <td>1470.0</td>\n",
       "      <td>2.187755</td>\n",
       "      <td>3.222430</td>\n",
       "      <td>0.0</td>\n",
       "      <td>0.00</td>\n",
       "      <td>1.0</td>\n",
       "      <td>3.00</td>\n",
       "      <td>15.0</td>\n",
       "    </tr>\n",
       "    <tr>\n",
       "      <th>YearsWithCurrManager</th>\n",
       "      <td>1470.0</td>\n",
       "      <td>4.123129</td>\n",
       "      <td>3.568136</td>\n",
       "      <td>0.0</td>\n",
       "      <td>2.00</td>\n",
       "      <td>3.0</td>\n",
       "      <td>7.00</td>\n",
       "      <td>17.0</td>\n",
       "    </tr>\n",
       "  </tbody>\n",
       "</table>\n",
       "</div>"
      ],
      "text/plain": [
       "                           count          mean          std     min      25%  \\\n",
       "Age                       1470.0     36.923810     9.135373    18.0    30.00   \n",
       "DailyRate                 1470.0    802.485714   403.509100   102.0   465.00   \n",
       "DistanceFromHome          1470.0      9.192517     8.106864     1.0     2.00   \n",
       "Education                 1470.0      2.912925     1.024165     1.0     2.00   \n",
       "EmployeeCount             1470.0      1.000000     0.000000     1.0     1.00   \n",
       "EmployeeNumber            1470.0   1024.865306   602.024335     1.0   491.25   \n",
       "EnvironmentSatisfaction   1470.0      2.721769     1.093082     1.0     2.00   \n",
       "HourlyRate                1470.0     65.891156    20.329428    30.0    48.00   \n",
       "JobInvolvement            1470.0      2.729932     0.711561     1.0     2.00   \n",
       "JobLevel                  1470.0      2.063946     1.106940     1.0     1.00   \n",
       "JobSatisfaction           1470.0      2.728571     1.102846     1.0     2.00   \n",
       "MonthlyIncome             1470.0   6502.931293  4707.956783  1009.0  2911.00   \n",
       "MonthlyRate               1470.0  14313.103401  7117.786044  2094.0  8047.00   \n",
       "NumCompaniesWorked        1470.0      2.693197     2.498009     0.0     1.00   \n",
       "PercentSalaryHike         1470.0     15.209524     3.659938    11.0    12.00   \n",
       "PerformanceRating         1470.0      3.153741     0.360824     3.0     3.00   \n",
       "RelationshipSatisfaction  1470.0      2.712245     1.081209     1.0     2.00   \n",
       "StandardHours             1470.0     80.000000     0.000000    80.0    80.00   \n",
       "StockOptionLevel          1470.0      0.793878     0.852077     0.0     0.00   \n",
       "TotalWorkingYears         1470.0     11.279592     7.780782     0.0     6.00   \n",
       "TrainingTimesLastYear     1470.0      2.799320     1.289271     0.0     2.00   \n",
       "WorkLifeBalance           1470.0      2.761224     0.706476     1.0     2.00   \n",
       "YearsAtCompany            1470.0      7.008163     6.126525     0.0     3.00   \n",
       "YearsInCurrentRole        1470.0      4.229252     3.623137     0.0     2.00   \n",
       "YearsSinceLastPromotion   1470.0      2.187755     3.222430     0.0     0.00   \n",
       "YearsWithCurrManager      1470.0      4.123129     3.568136     0.0     2.00   \n",
       "\n",
       "                              50%       75%      max  \n",
       "Age                          36.0     43.00     60.0  \n",
       "DailyRate                   802.0   1157.00   1499.0  \n",
       "DistanceFromHome              7.0     14.00     29.0  \n",
       "Education                     3.0      4.00      5.0  \n",
       "EmployeeCount                 1.0      1.00      1.0  \n",
       "EmployeeNumber             1020.5   1555.75   2068.0  \n",
       "EnvironmentSatisfaction       3.0      4.00      4.0  \n",
       "HourlyRate                   66.0     83.75    100.0  \n",
       "JobInvolvement                3.0      3.00      4.0  \n",
       "JobLevel                      2.0      3.00      5.0  \n",
       "JobSatisfaction               3.0      4.00      4.0  \n",
       "MonthlyIncome              4919.0   8379.00  19999.0  \n",
       "MonthlyRate               14235.5  20461.50  26999.0  \n",
       "NumCompaniesWorked            2.0      4.00      9.0  \n",
       "PercentSalaryHike            14.0     18.00     25.0  \n",
       "PerformanceRating             3.0      3.00      4.0  \n",
       "RelationshipSatisfaction      3.0      4.00      4.0  \n",
       "StandardHours                80.0     80.00     80.0  \n",
       "StockOptionLevel              1.0      1.00      3.0  \n",
       "TotalWorkingYears            10.0     15.00     40.0  \n",
       "TrainingTimesLastYear         3.0      3.00      6.0  \n",
       "WorkLifeBalance               3.0      3.00      4.0  \n",
       "YearsAtCompany                5.0      9.00     40.0  \n",
       "YearsInCurrentRole            3.0      7.00     18.0  \n",
       "YearsSinceLastPromotion       1.0      3.00     15.0  \n",
       "YearsWithCurrManager          3.0      7.00     17.0  "
      ]
     },
     "execution_count": 69,
     "metadata": {},
     "output_type": "execute_result"
    }
   ],
   "source": [
    "#summary for numeric dtypes\n",
    "df_hr.describe().T"
   ]
  },
  {
   "cell_type": "code",
   "execution_count": 70,
   "metadata": {
    "scrolled": true
   },
   "outputs": [
    {
     "data": {
      "text/html": [
       "<div>\n",
       "<style scoped>\n",
       "    .dataframe tbody tr th:only-of-type {\n",
       "        vertical-align: middle;\n",
       "    }\n",
       "\n",
       "    .dataframe tbody tr th {\n",
       "        vertical-align: top;\n",
       "    }\n",
       "\n",
       "    .dataframe thead th {\n",
       "        text-align: right;\n",
       "    }\n",
       "</style>\n",
       "<table border=\"1\" class=\"dataframe\">\n",
       "  <thead>\n",
       "    <tr style=\"text-align: right;\">\n",
       "      <th></th>\n",
       "      <th>Attrition</th>\n",
       "      <th>BusinessTravel</th>\n",
       "      <th>Department</th>\n",
       "      <th>EducationField</th>\n",
       "      <th>Gender</th>\n",
       "      <th>JobRole</th>\n",
       "      <th>MaritalStatus</th>\n",
       "      <th>Over18</th>\n",
       "      <th>OverTime</th>\n",
       "    </tr>\n",
       "  </thead>\n",
       "  <tbody>\n",
       "    <tr>\n",
       "      <th>count</th>\n",
       "      <td>1470</td>\n",
       "      <td>1470</td>\n",
       "      <td>1470</td>\n",
       "      <td>1470</td>\n",
       "      <td>1470</td>\n",
       "      <td>1470</td>\n",
       "      <td>1470</td>\n",
       "      <td>1470</td>\n",
       "      <td>1470</td>\n",
       "    </tr>\n",
       "    <tr>\n",
       "      <th>unique</th>\n",
       "      <td>2</td>\n",
       "      <td>3</td>\n",
       "      <td>3</td>\n",
       "      <td>6</td>\n",
       "      <td>2</td>\n",
       "      <td>9</td>\n",
       "      <td>3</td>\n",
       "      <td>1</td>\n",
       "      <td>2</td>\n",
       "    </tr>\n",
       "    <tr>\n",
       "      <th>top</th>\n",
       "      <td>No</td>\n",
       "      <td>Travel_Rarely</td>\n",
       "      <td>Research &amp; Development</td>\n",
       "      <td>Life Sciences</td>\n",
       "      <td>Male</td>\n",
       "      <td>Sales Executive</td>\n",
       "      <td>Married</td>\n",
       "      <td>Y</td>\n",
       "      <td>No</td>\n",
       "    </tr>\n",
       "    <tr>\n",
       "      <th>freq</th>\n",
       "      <td>1233</td>\n",
       "      <td>1043</td>\n",
       "      <td>961</td>\n",
       "      <td>606</td>\n",
       "      <td>882</td>\n",
       "      <td>326</td>\n",
       "      <td>673</td>\n",
       "      <td>1470</td>\n",
       "      <td>1054</td>\n",
       "    </tr>\n",
       "  </tbody>\n",
       "</table>\n",
       "</div>"
      ],
      "text/plain": [
       "       Attrition BusinessTravel              Department EducationField Gender  \\\n",
       "count       1470           1470                    1470           1470   1470   \n",
       "unique         2              3                       3              6      2   \n",
       "top           No  Travel_Rarely  Research & Development  Life Sciences   Male   \n",
       "freq        1233           1043                     961            606    882   \n",
       "\n",
       "                JobRole MaritalStatus Over18 OverTime  \n",
       "count              1470          1470   1470     1470  \n",
       "unique                9             3      1        2  \n",
       "top     Sales Executive       Married      Y       No  \n",
       "freq                326           673   1470     1054  "
      ]
     },
     "execution_count": 70,
     "metadata": {},
     "output_type": "execute_result"
    }
   ],
   "source": [
    "#summary for non numeric dtypes\n",
    "df_hr.select_dtypes(object).describe()"
   ]
  },
  {
   "cell_type": "markdown",
   "metadata": {},
   "source": [
    "### What is the structure of your dataset?\n",
    "\n",
    "The dataset contains 1470 rows by 35 columns, and have 9 object and 26 int datatypes. There are no missing values but there is a duplicated column the `Over18` column which contains the Y value, assumptions being it was used to trim employees who are 18 or older. Other than that there are a few cleaning issues which involves datatypes, where most columns are categorical and will be done after choosing the features to be used in this analysis.\n",
    "\n",
    "### What is/are the main feature(s) of interest in your dataset?\n",
    "\n",
    "For this analysis we will be taking into account all variables that has a relationship or an effect with employee attrition rate, hence the `Attrition` variable is the suitable choice for the target variable.\n",
    "\n",
    "\n",
    "\n",
    "### What features in the dataset do you think will help support your investigation into your feature(s) of interest?\n",
    "\n",
    "The features which will enable this investigation using this dataset are guided by employees' demographic and quality of work and work environment. It was also influence by a blog under an HR Consultant based in the UK, [peepshr](https://www.peepshr.co.uk/resource-centre/7-common-causes-of-high-employee-turnover/), which highlights 7 common causes of high employee turnover. Turnover is a subset of attrition thus I decided to also add job involvement for the employee and variables to determine how frequent they changed companies may help in determining an involuntary attrition:\n",
    " - Age\n",
    "- Gender\n",
    "- MaritalStatus\n",
    "- Department\n",
    "- Education\n",
    "- BusinessTravel\n",
    "- EnvironmentSatisfaction\n",
    "- WorkLifeBalance\n",
    "- OverTime\n",
    "- YearsInCurrentRole\n",
    "- YearsWithCurrManager\n",
    "- YearsSinceLastPromotion\n",
    "- PercentSalaryHike\n",
    "- NumCompaniesWorked\n",
    "- TrainingTimesLastYear\n",
    "- TotalWorkingYears\n",
    "- JobInvolvement\n",
    "- JobSatisfaction\n",
    "\n",
    "But the analysis will be centered on the features which have a correlated relationship with the target *attrition*."
   ]
  },
  {
   "cell_type": "code",
   "execution_count": 71,
   "metadata": {},
   "outputs": [
    {
     "name": "stdout",
     "output_type": "stream",
     "text": [
      "<class 'pandas.core.frame.DataFrame'>\n",
      "RangeIndex: 1470 entries, 0 to 1469\n",
      "Data columns (total 19 columns):\n",
      " #   Column                   Non-Null Count  Dtype \n",
      "---  ------                   --------------  ----- \n",
      " 0   Age                      1470 non-null   int64 \n",
      " 1   Attrition                1470 non-null   object\n",
      " 2   Gender                   1470 non-null   object\n",
      " 3   MaritalStatus            1470 non-null   object\n",
      " 4   Department               1470 non-null   object\n",
      " 5   Education                1470 non-null   int64 \n",
      " 6   EnvironmentSatisfaction  1470 non-null   int64 \n",
      " 7   BusinessTravel           1470 non-null   object\n",
      " 8   WorkLifeBalance          1470 non-null   int64 \n",
      " 9   OverTime                 1470 non-null   object\n",
      " 10  YearsInCurrentRole       1470 non-null   int64 \n",
      " 11  YearsWithCurrManager     1470 non-null   int64 \n",
      " 12  YearsSinceLastPromotion  1470 non-null   int64 \n",
      " 13  PercentSalaryHike        1470 non-null   int64 \n",
      " 14  NumCompaniesWorked       1470 non-null   int64 \n",
      " 15  TrainingTimesLastYear    1470 non-null   int64 \n",
      " 16  TotalWorkingYears        1470 non-null   int64 \n",
      " 17  JobInvolvement           1470 non-null   int64 \n",
      " 18  JobSatisfaction          1470 non-null   int64 \n",
      "dtypes: int64(13), object(6)\n",
      "memory usage: 218.3+ KB\n"
     ]
    }
   ],
   "source": [
    "# Trim down dataset\n",
    "features = ['Age','Attrition','Gender','MaritalStatus','Department','Education','EnvironmentSatisfaction',\n",
    "            'BusinessTravel','WorkLifeBalance','OverTime', 'YearsInCurrentRole','YearsWithCurrManager',\n",
    "            'YearsSinceLastPromotion','PercentSalaryHike', 'NumCompaniesWorked','TrainingTimesLastYear','TotalWorkingYears',\n",
    "            'JobInvolvement','JobSatisfaction']\n",
    "analysis_hr = df_hr[features].copy()\n",
    "analysis_hr.info()"
   ]
  },
  {
   "cell_type": "markdown",
   "metadata": {},
   "source": [
    "Now the data at hand contains 18 variables which will be sufficient in this analysis. There are some datatypes that needs to be changed, starting with the `Attrition` and `OverTime` variables where possible values are *Yes* and *No*, but these can be better represented as a boolean datatype"
   ]
  },
  {
   "cell_type": "code",
   "execution_count": 72,
   "metadata": {},
   "outputs": [],
   "source": [
    "# checking if values in Attrition and OverTime are the same to combine cleaning operation\n",
    "assert all(analysis_hr['Attrition'].unique() == analysis_hr['OverTime'].unique())"
   ]
  },
  {
   "cell_type": "code",
   "execution_count": 73,
   "metadata": {},
   "outputs": [],
   "source": [
    "analysis_hr[['Attrition','OverTime']] = analysis_hr[['Attrition','OverTime']].replace({'Yes': True, 'No': False})"
   ]
  },
  {
   "cell_type": "code",
   "execution_count": 74,
   "metadata": {},
   "outputs": [
    {
     "data": {
      "text/plain": [
       "Attrition    bool\n",
       "OverTime     bool\n",
       "dtype: object"
      ]
     },
     "execution_count": 74,
     "metadata": {},
     "output_type": "execute_result"
    }
   ],
   "source": [
    "analysis_hr[['Attrition','OverTime']].dtypes"
   ]
  },
  {
   "cell_type": "markdown",
   "metadata": {},
   "source": [
    "Change back to word ratings for `Education`, `WorkLifeBalance`, `EnvironmentSatisfaction`, `RelationshipSatisfaction`, `JobInvolvement`, and `JobSatisfaction` variables with guidance in the **Introduction** section."
   ]
  },
  {
   "cell_type": "code",
   "execution_count": 75,
   "metadata": {},
   "outputs": [],
   "source": [
    "low_vhigh = {1:'Low',2:'Medium',3:'High',4:'Very High'} # all variables ending with satisfaction and one jobinvolvement\n",
    "workLife = {1:'Bad',2:'Good',3:'Better',4:'Best'} # for WorkLifeBalance variable\n",
    "educlass = {1:'Below College',2:'College',3:'Bachelor',4:'Master',5:'Doctor'} # education variable\n",
    "\n",
    "low_vhigh_vars = ['EnvironmentSatisfaction', 'JobInvolvement', 'JobSatisfaction']\n",
    "\n",
    "analysis_hr[low_vhigh_vars] = analysis_hr[low_vhigh_vars].replace(low_vhigh)\n",
    "analysis_hr['WorkLifeBalance'] = analysis_hr['WorkLifeBalance'].replace(workLife)\n",
    "analysis_hr['Education'] = analysis_hr['Education'].replace(educlass)"
   ]
  },
  {
   "cell_type": "code",
   "execution_count": 76,
   "metadata": {},
   "outputs": [],
   "source": [
    "# Convert low to very high rated variables into ordered categorical types\n",
    "ordered_var = pd.api.types.CategoricalDtype(ordered = True,\n",
    "                                            categories = ['Low','Medium','High','Very High'])\n",
    "analysis_hr[low_vhigh_vars] = analysis_hr[low_vhigh_vars].astype(ordered_var)"
   ]
  },
  {
   "cell_type": "code",
   "execution_count": 77,
   "metadata": {},
   "outputs": [],
   "source": [
    "# convert education and worklifebalance into ordered categorical types\n",
    "ordinal_var_dict = {'WorkLifeBalance': ['Bad', 'Good', 'Better', 'Best'],\n",
    "                    'Education': ['Below College', 'College', 'Bachelor','Master','Doctor'],\n",
    "                    'BusinessTravel': ['Non-Travel','Travel_Rarely','Travel_Frequently']}\n",
    "\n",
    "for var in ordinal_var_dict:\n",
    "    ordered_var = pd.api.types.CategoricalDtype(ordered = True,\n",
    "                                                categories = ordinal_var_dict[var])\n",
    "    analysis_hr[var] = analysis_hr[var].astype(ordered_var)\n",
    "   "
   ]
  },
  {
   "cell_type": "code",
   "execution_count": 78,
   "metadata": {},
   "outputs": [],
   "source": [
    "# convert remaining object variables which do not need ordering\n",
    "object_nominal = analysis_hr.select_dtypes(object)\n",
    "analysis_hr[object_nominal.columns] = analysis_hr[object_nominal.columns].astype('category')"
   ]
  },
  {
   "cell_type": "code",
   "execution_count": 79,
   "metadata": {},
   "outputs": [
    {
     "data": {
      "text/plain": [
       "Age                           int64\n",
       "Attrition                      bool\n",
       "Gender                     category\n",
       "MaritalStatus              category\n",
       "Department                 category\n",
       "Education                  category\n",
       "EnvironmentSatisfaction    category\n",
       "BusinessTravel             category\n",
       "WorkLifeBalance            category\n",
       "OverTime                       bool\n",
       "YearsInCurrentRole            int64\n",
       "YearsWithCurrManager          int64\n",
       "YearsSinceLastPromotion       int64\n",
       "PercentSalaryHike             int64\n",
       "NumCompaniesWorked            int64\n",
       "TrainingTimesLastYear         int64\n",
       "TotalWorkingYears             int64\n",
       "JobInvolvement             category\n",
       "JobSatisfaction            category\n",
       "dtype: object"
      ]
     },
     "execution_count": 79,
     "metadata": {},
     "output_type": "execute_result"
    }
   ],
   "source": [
    "analysis_hr.dtypes"
   ]
  },
  {
   "cell_type": "markdown",
   "metadata": {},
   "source": [
    "## Groundwork.\n",
    "\n",
    "In this chapter we will be looking at the target feature `attrition` as we attain the global rate and move on to group rates. This is foundational to find dependent features to the target and hopefully uncover how they relate."
   ]
  },
  {
   "cell_type": "markdown",
   "metadata": {},
   "source": [
    "### I. What is the global attrition rate?\n",
    "\n",
    "The **attrition rate** is the probability of an employee to be part of the attrition sample. Determining **attrition rate** will help in highlighting or uncovering possible factors that lead employees to depart from the company.\n"
   ]
  },
  {
   "cell_type": "code",
   "execution_count": 80,
   "metadata": {},
   "outputs": [],
   "source": [
    "## Referenced from: https://www.geeksforgeeks.org/adding-value-labels-on-a-matplotlib-bar-chart/\n",
    "\n",
    "def addlabels_top(x,y):\n",
    "    for i in range(x.min(),(x.min()+len(x))):\n",
    "        plt.text(i, y[i]+2, y[i], ha = 'center') # add bar labels with padding"
   ]
  },
  {
   "cell_type": "code",
   "execution_count": 81,
   "metadata": {},
   "outputs": [],
   "source": [
    "def addlabels(x,y):\n",
    "    for i in range(len(x)):\n",
    "        plt.text(i, y[i]/2, y[i], ha = 'center', color='white')"
   ]
  },
  {
   "cell_type": "code",
   "execution_count": 82,
   "metadata": {},
   "outputs": [
    {
     "data": {
      "text/plain": [
       "0.16"
      ]
     },
     "execution_count": 82,
     "metadata": {},
     "output_type": "execute_result"
    }
   ],
   "source": [
    "attrition_rates = round(analysis_hr['Attrition'].value_counts(normalize=True),2)\n",
    "attrition_rates[True]"
   ]
  },
  {
   "cell_type": "code",
   "execution_count": 83,
   "metadata": {},
   "outputs": [],
   "source": [
    "attrition_count = analysis_hr['Attrition'].value_counts()"
   ]
  },
  {
   "cell_type": "code",
   "execution_count": 84,
   "metadata": {},
   "outputs": [
    {
     "data": {
      "image/png": "[encoded data removed]",
      "text/plain": [
       "<Figure size 1008x432 with 2 Axes>"
      ]
     },
     "metadata": {
      "needs_background": "light"
     },
     "output_type": "display_data"
    }
   ],
   "source": [
    "plt.figure(figsize=(14,6))\n",
    "plt.suptitle('Employee vs Attrition')\n",
    "\n",
    "plt.subplot(1,2,1)\n",
    "sb.countplot(data=analysis_hr, x='Attrition', color=sb.color_palette()[0])\n",
    "addlabels(analysis_hr['Attrition'].unique(), attrition_count)\n",
    "plt.ylabel('Employee Count')\n",
    "plt.xlabel('Attrition')\n",
    "plt.title('Distribution of Employee Count');\n",
    "\n",
    "plt.subplot(1,2,2)\n",
    "plt.bar(attrition_rates.index, attrition_rates)\n",
    "addlabels(analysis_hr['Attrition'].unique(), attrition_rates)\n",
    "plt.xlabel('Attrition')\n",
    "plt.ylabel('Global Rate')\n",
    "plt.xticks([0,1],attrition_rates.index)\n",
    "plt.title('Rate Comparison');"
   ]
  },
  {
   "cell_type": "code",
   "execution_count": 85,
   "metadata": {},
   "outputs": [
    {
     "data": {
      "text/plain": [
       "0.16"
      ]
     },
     "execution_count": 85,
     "metadata": {},
     "output_type": "execute_result"
    }
   ],
   "source": [
    "global_mean = round(attrition_rates[True], 2)\n",
    "global_mean"
   ]
  },
  {
   "cell_type": "markdown",
   "metadata": {},
   "source": [
    "Among the 237 employee who left the company caused a 16% attrition mean and those who did not accounted for 1233 employees. Later in the Bivariate Chapter we will see an overview of this rate compared to group rate, the attrition rate in each column/variable. "
   ]
  },
  {
   "cell_type": "markdown",
   "metadata": {},
   "source": [
    "### II. Which numerical features have influence over the Attrition Rate"
   ]
  },
  {
   "cell_type": "code",
   "execution_count": 86,
   "metadata": {},
   "outputs": [
    {
     "data": {
      "text/plain": [
       "Index(['Age', 'YearsInCurrentRole', 'YearsWithCurrManager',\n",
       "       'YearsSinceLastPromotion', 'PercentSalaryHike', 'NumCompaniesWorked',\n",
       "       'TrainingTimesLastYear', 'TotalWorkingYears'],\n",
       "      dtype='object')"
      ]
     },
     "execution_count": 86,
     "metadata": {},
     "output_type": "execute_result"
    }
   ],
   "source": [
    "numerics = analysis_hr.select_dtypes(int).columns\n",
    "numerics"
   ]
  },
  {
   "cell_type": "code",
   "execution_count": 87,
   "metadata": {},
   "outputs": [
    {
     "data": {
      "text/plain": [
       "Age                       -0.159205\n",
       "YearsInCurrentRole        -0.160545\n",
       "YearsWithCurrManager      -0.156199\n",
       "YearsSinceLastPromotion   -0.033019\n",
       "PercentSalaryHike         -0.013478\n",
       "NumCompaniesWorked         0.043494\n",
       "TrainingTimesLastYear     -0.059478\n",
       "TotalWorkingYears         -0.171063\n",
       "dtype: float64"
      ]
     },
     "execution_count": 87,
     "metadata": {},
     "output_type": "execute_result"
    }
   ],
   "source": [
    "corr_attrition = analysis_hr[numerics].corrwith(analysis_hr['Attrition'])\n",
    "corr_attrition"
   ]
  },
  {
   "cell_type": "markdown",
   "metadata": {},
   "source": [
    "It seems that the numerical variables have no influence over the outcome of the target varibale, Attrition, but do they have any relationship with each other?"
   ]
  },
  {
   "cell_type": "code",
   "execution_count": 88,
   "metadata": {},
   "outputs": [
    {
     "data": {
      "text/plain": [
       "<AxesSubplot:>"
      ]
     },
     "execution_count": 88,
     "metadata": {},
     "output_type": "execute_result"
    },
    {
     "data": {
      "image/png": "[encoded data removed]",
      "text/plain": [
       "<Figure size 432x288 with 2 Axes>"
      ]
     },
     "metadata": {
      "needs_background": "light"
     },
     "output_type": "display_data"
    }
   ],
   "source": [
    "sb.heatmap(analysis_hr[numerics].corr())"
   ]
  },
  {
   "cell_type": "markdown",
   "metadata": {},
   "source": [
    "### III. Which Categorical features that have relation to Attrition Rate?\n",
    "\n",
    "Having attained the global attrition rate of 16%, in this section we will be comparing it to group attrition rates.In doing this we will be attaining the risk ratio which is defined as,\n",
    "\n",
    "> <div>In statistics, the ratio between probabilities\n",
    "in different groups is called the risk ratio, where risk refers to the risk of having\n",
    "the effect. <br><br><div style='text-align: right; font-style: italic'>Grigorev, A.(2021). Machine Learning Bookcamp: Build a Portfolio of Real-life Projects. Manning </div></div>"
   ]
  },
  {
   "cell_type": "code",
   "execution_count": 89,
   "metadata": {},
   "outputs": [],
   "source": [
    "# set categorical features in a list\n",
    "categorical = analysis_hr.select_dtypes(['category','bool']).columns\n",
    "categorical = categorical.drop('Attrition')"
   ]
  },
  {
   "cell_type": "markdown",
   "metadata": {},
   "source": [
    "First, we need to calculate the group attrition mean, the attrition risk and difference between the global and group mean. This gives an overview of features with high attrition risk, but also the ones with little to no risk will be accounted for, which will be the focus of further exploration in this section."
   ]
  },
  {
   "cell_type": "code",
   "execution_count": 90,
   "metadata": {},
   "outputs": [
    {
     "data": {
      "text/html": [
       "<div>\n",
       "<style scoped>\n",
       "    .dataframe tbody tr th:only-of-type {\n",
       "        vertical-align: middle;\n",
       "    }\n",
       "\n",
       "    .dataframe tbody tr th {\n",
       "        vertical-align: top;\n",
       "    }\n",
       "\n",
       "    .dataframe thead th {\n",
       "        text-align: right;\n",
       "    }\n",
       "</style>\n",
       "<table border=\"1\" class=\"dataframe\">\n",
       "  <thead>\n",
       "    <tr style=\"text-align: right;\">\n",
       "      <th></th>\n",
       "      <th>mean</th>\n",
       "      <th>diff</th>\n",
       "      <th>risk</th>\n",
       "    </tr>\n",
       "    <tr>\n",
       "      <th>Gender</th>\n",
       "      <th></th>\n",
       "      <th></th>\n",
       "      <th></th>\n",
       "    </tr>\n",
       "  </thead>\n",
       "  <tbody>\n",
       "    <tr>\n",
       "      <th>Female</th>\n",
       "      <td>0.147959</td>\n",
       "      <td>-0.012041</td>\n",
       "      <td>0.924745</td>\n",
       "    </tr>\n",
       "    <tr>\n",
       "      <th>Male</th>\n",
       "      <td>0.170068</td>\n",
       "      <td>0.010068</td>\n",
       "      <td>1.062925</td>\n",
       "    </tr>\n",
       "  </tbody>\n",
       "</table>\n",
       "</div>"
      ],
      "text/plain": [
       "            mean      diff      risk\n",
       "Gender                              \n",
       "Female  0.147959 -0.012041  0.924745\n",
       "Male    0.170068  0.010068  1.062925"
      ]
     },
     "metadata": {},
     "output_type": "display_data"
    },
    {
     "data": {
      "text/html": [
       "<div>\n",
       "<style scoped>\n",
       "    .dataframe tbody tr th:only-of-type {\n",
       "        vertical-align: middle;\n",
       "    }\n",
       "\n",
       "    .dataframe tbody tr th {\n",
       "        vertical-align: top;\n",
       "    }\n",
       "\n",
       "    .dataframe thead th {\n",
       "        text-align: right;\n",
       "    }\n",
       "</style>\n",
       "<table border=\"1\" class=\"dataframe\">\n",
       "  <thead>\n",
       "    <tr style=\"text-align: right;\">\n",
       "      <th></th>\n",
       "      <th>mean</th>\n",
       "      <th>diff</th>\n",
       "      <th>risk</th>\n",
       "    </tr>\n",
       "    <tr>\n",
       "      <th>MaritalStatus</th>\n",
       "      <th></th>\n",
       "      <th></th>\n",
       "      <th></th>\n",
       "    </tr>\n",
       "  </thead>\n",
       "  <tbody>\n",
       "    <tr>\n",
       "      <th>Divorced</th>\n",
       "      <td>0.100917</td>\n",
       "      <td>-0.059083</td>\n",
       "      <td>0.630734</td>\n",
       "    </tr>\n",
       "    <tr>\n",
       "      <th>Married</th>\n",
       "      <td>0.124814</td>\n",
       "      <td>-0.035186</td>\n",
       "      <td>0.780089</td>\n",
       "    </tr>\n",
       "    <tr>\n",
       "      <th>Single</th>\n",
       "      <td>0.255319</td>\n",
       "      <td>0.095319</td>\n",
       "      <td>1.595745</td>\n",
       "    </tr>\n",
       "  </tbody>\n",
       "</table>\n",
       "</div>"
      ],
      "text/plain": [
       "                   mean      diff      risk\n",
       "MaritalStatus                              \n",
       "Divorced       0.100917 -0.059083  0.630734\n",
       "Married        0.124814 -0.035186  0.780089\n",
       "Single         0.255319  0.095319  1.595745"
      ]
     },
     "metadata": {},
     "output_type": "display_data"
    },
    {
     "data": {
      "text/html": [
       "<div>\n",
       "<style scoped>\n",
       "    .dataframe tbody tr th:only-of-type {\n",
       "        vertical-align: middle;\n",
       "    }\n",
       "\n",
       "    .dataframe tbody tr th {\n",
       "        vertical-align: top;\n",
       "    }\n",
       "\n",
       "    .dataframe thead th {\n",
       "        text-align: right;\n",
       "    }\n",
       "</style>\n",
       "<table border=\"1\" class=\"dataframe\">\n",
       "  <thead>\n",
       "    <tr style=\"text-align: right;\">\n",
       "      <th></th>\n",
       "      <th>mean</th>\n",
       "      <th>diff</th>\n",
       "      <th>risk</th>\n",
       "    </tr>\n",
       "    <tr>\n",
       "      <th>Department</th>\n",
       "      <th></th>\n",
       "      <th></th>\n",
       "      <th></th>\n",
       "    </tr>\n",
       "  </thead>\n",
       "  <tbody>\n",
       "    <tr>\n",
       "      <th>Human Resources</th>\n",
       "      <td>0.190476</td>\n",
       "      <td>0.030476</td>\n",
       "      <td>1.190476</td>\n",
       "    </tr>\n",
       "    <tr>\n",
       "      <th>Research &amp; Development</th>\n",
       "      <td>0.138398</td>\n",
       "      <td>-0.021602</td>\n",
       "      <td>0.864984</td>\n",
       "    </tr>\n",
       "    <tr>\n",
       "      <th>Sales</th>\n",
       "      <td>0.206278</td>\n",
       "      <td>0.046278</td>\n",
       "      <td>1.289238</td>\n",
       "    </tr>\n",
       "  </tbody>\n",
       "</table>\n",
       "</div>"
      ],
      "text/plain": [
       "                            mean      diff      risk\n",
       "Department                                          \n",
       "Human Resources         0.190476  0.030476  1.190476\n",
       "Research & Development  0.138398 -0.021602  0.864984\n",
       "Sales                   0.206278  0.046278  1.289238"
      ]
     },
     "metadata": {},
     "output_type": "display_data"
    },
    {
     "data": {
      "text/html": [
       "<div>\n",
       "<style scoped>\n",
       "    .dataframe tbody tr th:only-of-type {\n",
       "        vertical-align: middle;\n",
       "    }\n",
       "\n",
       "    .dataframe tbody tr th {\n",
       "        vertical-align: top;\n",
       "    }\n",
       "\n",
       "    .dataframe thead th {\n",
       "        text-align: right;\n",
       "    }\n",
       "</style>\n",
       "<table border=\"1\" class=\"dataframe\">\n",
       "  <thead>\n",
       "    <tr style=\"text-align: right;\">\n",
       "      <th></th>\n",
       "      <th>mean</th>\n",
       "      <th>diff</th>\n",
       "      <th>risk</th>\n",
       "    </tr>\n",
       "    <tr>\n",
       "      <th>Education</th>\n",
       "      <th></th>\n",
       "      <th></th>\n",
       "      <th></th>\n",
       "    </tr>\n",
       "  </thead>\n",
       "  <tbody>\n",
       "    <tr>\n",
       "      <th>Below College</th>\n",
       "      <td>0.182353</td>\n",
       "      <td>0.022353</td>\n",
       "      <td>1.139706</td>\n",
       "    </tr>\n",
       "    <tr>\n",
       "      <th>College</th>\n",
       "      <td>0.156028</td>\n",
       "      <td>-0.003972</td>\n",
       "      <td>0.975177</td>\n",
       "    </tr>\n",
       "    <tr>\n",
       "      <th>Bachelor</th>\n",
       "      <td>0.173077</td>\n",
       "      <td>0.013077</td>\n",
       "      <td>1.081731</td>\n",
       "    </tr>\n",
       "    <tr>\n",
       "      <th>Master</th>\n",
       "      <td>0.145729</td>\n",
       "      <td>-0.014271</td>\n",
       "      <td>0.910804</td>\n",
       "    </tr>\n",
       "    <tr>\n",
       "      <th>Doctor</th>\n",
       "      <td>0.104167</td>\n",
       "      <td>-0.055833</td>\n",
       "      <td>0.651042</td>\n",
       "    </tr>\n",
       "  </tbody>\n",
       "</table>\n",
       "</div>"
      ],
      "text/plain": [
       "                   mean      diff      risk\n",
       "Education                                  \n",
       "Below College  0.182353  0.022353  1.139706\n",
       "College        0.156028 -0.003972  0.975177\n",
       "Bachelor       0.173077  0.013077  1.081731\n",
       "Master         0.145729 -0.014271  0.910804\n",
       "Doctor         0.104167 -0.055833  0.651042"
      ]
     },
     "metadata": {},
     "output_type": "display_data"
    },
    {
     "data": {
      "text/html": [
       "<div>\n",
       "<style scoped>\n",
       "    .dataframe tbody tr th:only-of-type {\n",
       "        vertical-align: middle;\n",
       "    }\n",
       "\n",
       "    .dataframe tbody tr th {\n",
       "        vertical-align: top;\n",
       "    }\n",
       "\n",
       "    .dataframe thead th {\n",
       "        text-align: right;\n",
       "    }\n",
       "</style>\n",
       "<table border=\"1\" class=\"dataframe\">\n",
       "  <thead>\n",
       "    <tr style=\"text-align: right;\">\n",
       "      <th></th>\n",
       "      <th>mean</th>\n",
       "      <th>diff</th>\n",
       "      <th>risk</th>\n",
       "    </tr>\n",
       "    <tr>\n",
       "      <th>EnvironmentSatisfaction</th>\n",
       "      <th></th>\n",
       "      <th></th>\n",
       "      <th></th>\n",
       "    </tr>\n",
       "  </thead>\n",
       "  <tbody>\n",
       "    <tr>\n",
       "      <th>Low</th>\n",
       "      <td>0.253521</td>\n",
       "      <td>0.093521</td>\n",
       "      <td>1.584507</td>\n",
       "    </tr>\n",
       "    <tr>\n",
       "      <th>Medium</th>\n",
       "      <td>0.149826</td>\n",
       "      <td>-0.010174</td>\n",
       "      <td>0.936411</td>\n",
       "    </tr>\n",
       "    <tr>\n",
       "      <th>High</th>\n",
       "      <td>0.136865</td>\n",
       "      <td>-0.023135</td>\n",
       "      <td>0.855408</td>\n",
       "    </tr>\n",
       "    <tr>\n",
       "      <th>Very High</th>\n",
       "      <td>0.134529</td>\n",
       "      <td>-0.025471</td>\n",
       "      <td>0.840807</td>\n",
       "    </tr>\n",
       "  </tbody>\n",
       "</table>\n",
       "</div>"
      ],
      "text/plain": [
       "                             mean      diff      risk\n",
       "EnvironmentSatisfaction                              \n",
       "Low                      0.253521  0.093521  1.584507\n",
       "Medium                   0.149826 -0.010174  0.936411\n",
       "High                     0.136865 -0.023135  0.855408\n",
       "Very High                0.134529 -0.025471  0.840807"
      ]
     },
     "metadata": {},
     "output_type": "display_data"
    },
    {
     "data": {
      "text/html": [
       "<div>\n",
       "<style scoped>\n",
       "    .dataframe tbody tr th:only-of-type {\n",
       "        vertical-align: middle;\n",
       "    }\n",
       "\n",
       "    .dataframe tbody tr th {\n",
       "        vertical-align: top;\n",
       "    }\n",
       "\n",
       "    .dataframe thead th {\n",
       "        text-align: right;\n",
       "    }\n",
       "</style>\n",
       "<table border=\"1\" class=\"dataframe\">\n",
       "  <thead>\n",
       "    <tr style=\"text-align: right;\">\n",
       "      <th></th>\n",
       "      <th>mean</th>\n",
       "      <th>diff</th>\n",
       "      <th>risk</th>\n",
       "    </tr>\n",
       "    <tr>\n",
       "      <th>BusinessTravel</th>\n",
       "      <th></th>\n",
       "      <th></th>\n",
       "      <th></th>\n",
       "    </tr>\n",
       "  </thead>\n",
       "  <tbody>\n",
       "    <tr>\n",
       "      <th>Non-Travel</th>\n",
       "      <td>0.080000</td>\n",
       "      <td>-0.080000</td>\n",
       "      <td>0.500000</td>\n",
       "    </tr>\n",
       "    <tr>\n",
       "      <th>Travel_Rarely</th>\n",
       "      <td>0.149569</td>\n",
       "      <td>-0.010431</td>\n",
       "      <td>0.934803</td>\n",
       "    </tr>\n",
       "    <tr>\n",
       "      <th>Travel_Frequently</th>\n",
       "      <td>0.249097</td>\n",
       "      <td>0.089097</td>\n",
       "      <td>1.556859</td>\n",
       "    </tr>\n",
       "  </tbody>\n",
       "</table>\n",
       "</div>"
      ],
      "text/plain": [
       "                       mean      diff      risk\n",
       "BusinessTravel                                 \n",
       "Non-Travel         0.080000 -0.080000  0.500000\n",
       "Travel_Rarely      0.149569 -0.010431  0.934803\n",
       "Travel_Frequently  0.249097  0.089097  1.556859"
      ]
     },
     "metadata": {},
     "output_type": "display_data"
    },
    {
     "data": {
      "text/html": [
       "<div>\n",
       "<style scoped>\n",
       "    .dataframe tbody tr th:only-of-type {\n",
       "        vertical-align: middle;\n",
       "    }\n",
       "\n",
       "    .dataframe tbody tr th {\n",
       "        vertical-align: top;\n",
       "    }\n",
       "\n",
       "    .dataframe thead th {\n",
       "        text-align: right;\n",
       "    }\n",
       "</style>\n",
       "<table border=\"1\" class=\"dataframe\">\n",
       "  <thead>\n",
       "    <tr style=\"text-align: right;\">\n",
       "      <th></th>\n",
       "      <th>mean</th>\n",
       "      <th>diff</th>\n",
       "      <th>risk</th>\n",
       "    </tr>\n",
       "    <tr>\n",
       "      <th>WorkLifeBalance</th>\n",
       "      <th></th>\n",
       "      <th></th>\n",
       "      <th></th>\n",
       "    </tr>\n",
       "  </thead>\n",
       "  <tbody>\n",
       "    <tr>\n",
       "      <th>Bad</th>\n",
       "      <td>0.312500</td>\n",
       "      <td>0.152500</td>\n",
       "      <td>1.953125</td>\n",
       "    </tr>\n",
       "    <tr>\n",
       "      <th>Good</th>\n",
       "      <td>0.168605</td>\n",
       "      <td>0.008605</td>\n",
       "      <td>1.053779</td>\n",
       "    </tr>\n",
       "    <tr>\n",
       "      <th>Better</th>\n",
       "      <td>0.142217</td>\n",
       "      <td>-0.017783</td>\n",
       "      <td>0.888858</td>\n",
       "    </tr>\n",
       "    <tr>\n",
       "      <th>Best</th>\n",
       "      <td>0.176471</td>\n",
       "      <td>0.016471</td>\n",
       "      <td>1.102941</td>\n",
       "    </tr>\n",
       "  </tbody>\n",
       "</table>\n",
       "</div>"
      ],
      "text/plain": [
       "                     mean      diff      risk\n",
       "WorkLifeBalance                              \n",
       "Bad              0.312500  0.152500  1.953125\n",
       "Good             0.168605  0.008605  1.053779\n",
       "Better           0.142217 -0.017783  0.888858\n",
       "Best             0.176471  0.016471  1.102941"
      ]
     },
     "metadata": {},
     "output_type": "display_data"
    },
    {
     "data": {
      "text/html": [
       "<div>\n",
       "<style scoped>\n",
       "    .dataframe tbody tr th:only-of-type {\n",
       "        vertical-align: middle;\n",
       "    }\n",
       "\n",
       "    .dataframe tbody tr th {\n",
       "        vertical-align: top;\n",
       "    }\n",
       "\n",
       "    .dataframe thead th {\n",
       "        text-align: right;\n",
       "    }\n",
       "</style>\n",
       "<table border=\"1\" class=\"dataframe\">\n",
       "  <thead>\n",
       "    <tr style=\"text-align: right;\">\n",
       "      <th></th>\n",
       "      <th>mean</th>\n",
       "      <th>diff</th>\n",
       "      <th>risk</th>\n",
       "    </tr>\n",
       "    <tr>\n",
       "      <th>OverTime</th>\n",
       "      <th></th>\n",
       "      <th></th>\n",
       "      <th></th>\n",
       "    </tr>\n",
       "  </thead>\n",
       "  <tbody>\n",
       "    <tr>\n",
       "      <th>False</th>\n",
       "      <td>0.104364</td>\n",
       "      <td>-0.055636</td>\n",
       "      <td>0.652277</td>\n",
       "    </tr>\n",
       "    <tr>\n",
       "      <th>True</th>\n",
       "      <td>0.305288</td>\n",
       "      <td>0.145288</td>\n",
       "      <td>1.908053</td>\n",
       "    </tr>\n",
       "  </tbody>\n",
       "</table>\n",
       "</div>"
      ],
      "text/plain": [
       "              mean      diff      risk\n",
       "OverTime                              \n",
       "False     0.104364 -0.055636  0.652277\n",
       "True      0.305288  0.145288  1.908053"
      ]
     },
     "metadata": {},
     "output_type": "display_data"
    },
    {
     "data": {
      "text/html": [
       "<div>\n",
       "<style scoped>\n",
       "    .dataframe tbody tr th:only-of-type {\n",
       "        vertical-align: middle;\n",
       "    }\n",
       "\n",
       "    .dataframe tbody tr th {\n",
       "        vertical-align: top;\n",
       "    }\n",
       "\n",
       "    .dataframe thead th {\n",
       "        text-align: right;\n",
       "    }\n",
       "</style>\n",
       "<table border=\"1\" class=\"dataframe\">\n",
       "  <thead>\n",
       "    <tr style=\"text-align: right;\">\n",
       "      <th></th>\n",
       "      <th>mean</th>\n",
       "      <th>diff</th>\n",
       "      <th>risk</th>\n",
       "    </tr>\n",
       "    <tr>\n",
       "      <th>JobInvolvement</th>\n",
       "      <th></th>\n",
       "      <th></th>\n",
       "      <th></th>\n",
       "    </tr>\n",
       "  </thead>\n",
       "  <tbody>\n",
       "    <tr>\n",
       "      <th>Low</th>\n",
       "      <td>0.337349</td>\n",
       "      <td>0.177349</td>\n",
       "      <td>2.108434</td>\n",
       "    </tr>\n",
       "    <tr>\n",
       "      <th>Medium</th>\n",
       "      <td>0.189333</td>\n",
       "      <td>0.029333</td>\n",
       "      <td>1.183333</td>\n",
       "    </tr>\n",
       "    <tr>\n",
       "      <th>High</th>\n",
       "      <td>0.144009</td>\n",
       "      <td>-0.015991</td>\n",
       "      <td>0.900058</td>\n",
       "    </tr>\n",
       "    <tr>\n",
       "      <th>Very High</th>\n",
       "      <td>0.090278</td>\n",
       "      <td>-0.069722</td>\n",
       "      <td>0.564236</td>\n",
       "    </tr>\n",
       "  </tbody>\n",
       "</table>\n",
       "</div>"
      ],
      "text/plain": [
       "                    mean      diff      risk\n",
       "JobInvolvement                              \n",
       "Low             0.337349  0.177349  2.108434\n",
       "Medium          0.189333  0.029333  1.183333\n",
       "High            0.144009 -0.015991  0.900058\n",
       "Very High       0.090278 -0.069722  0.564236"
      ]
     },
     "metadata": {},
     "output_type": "display_data"
    },
    {
     "data": {
      "text/html": [
       "<div>\n",
       "<style scoped>\n",
       "    .dataframe tbody tr th:only-of-type {\n",
       "        vertical-align: middle;\n",
       "    }\n",
       "\n",
       "    .dataframe tbody tr th {\n",
       "        vertical-align: top;\n",
       "    }\n",
       "\n",
       "    .dataframe thead th {\n",
       "        text-align: right;\n",
       "    }\n",
       "</style>\n",
       "<table border=\"1\" class=\"dataframe\">\n",
       "  <thead>\n",
       "    <tr style=\"text-align: right;\">\n",
       "      <th></th>\n",
       "      <th>mean</th>\n",
       "      <th>diff</th>\n",
       "      <th>risk</th>\n",
       "    </tr>\n",
       "    <tr>\n",
       "      <th>JobSatisfaction</th>\n",
       "      <th></th>\n",
       "      <th></th>\n",
       "      <th></th>\n",
       "    </tr>\n",
       "  </thead>\n",
       "  <tbody>\n",
       "    <tr>\n",
       "      <th>Low</th>\n",
       "      <td>0.228374</td>\n",
       "      <td>0.068374</td>\n",
       "      <td>1.427336</td>\n",
       "    </tr>\n",
       "    <tr>\n",
       "      <th>Medium</th>\n",
       "      <td>0.164286</td>\n",
       "      <td>0.004286</td>\n",
       "      <td>1.026786</td>\n",
       "    </tr>\n",
       "    <tr>\n",
       "      <th>High</th>\n",
       "      <td>0.165158</td>\n",
       "      <td>0.005158</td>\n",
       "      <td>1.032240</td>\n",
       "    </tr>\n",
       "    <tr>\n",
       "      <th>Very High</th>\n",
       "      <td>0.113290</td>\n",
       "      <td>-0.046710</td>\n",
       "      <td>0.708061</td>\n",
       "    </tr>\n",
       "  </tbody>\n",
       "</table>\n",
       "</div>"
      ],
      "text/plain": [
       "                     mean      diff      risk\n",
       "JobSatisfaction                              \n",
       "Low              0.228374  0.068374  1.427336\n",
       "Medium           0.164286  0.004286  1.026786\n",
       "High             0.165158  0.005158  1.032240\n",
       "Very High        0.113290 -0.046710  0.708061"
      ]
     },
     "metadata": {},
     "output_type": "display_data"
    }
   ],
   "source": [
    "## Ref: Grigorev, A.(2021). Machine Learning Bookcamp: Build a Portfolio of Real-life Projects. Manning. pg 83\n",
    "from IPython.display import display\n",
    "\n",
    "\n",
    "# print group rate for all categorical values\n",
    "for col in categorical:\n",
    "    df_group = analysis_hr.groupby(col)['Attrition'].agg(['mean'])\n",
    "    df_group['diff'] = df_group['mean'] - global_mean\n",
    "    df_group['risk'] = df_group['mean'] / global_mean\n",
    "    \n",
    "    display(df_group)\n",
    "    "
   ]
  },
  {
   "cell_type": "markdown",
   "metadata": {},
   "source": [
    "Among the categorical value in variables with high attrition risk(a risk close to 2.0) were:\n",
    "1. MaritalStatus\n",
    "2. EnvironmentSatisfaction\n",
    "3. BusinessTravel\n",
    "4. WorkLifeBalance\n",
    "5. OverTime\n",
    "6. JobInvolvement\n",
    "\n",
    "`Gender` has the same risk as the rest of the population as well as `Department` but Research and Development is significantly lower than 0.9. All `Education` values round off to 1 meaning they also have approximately the same risk as the global mean. Last but not least `JobSatisfaction` has the same outcome but Low Job Satisfaction seems to show a close proximity to high attrition risk."
   ]
  },
  {
   "cell_type": "code",
   "execution_count": 91,
   "metadata": {},
   "outputs": [],
   "source": [
    "attrition = analysis_hr['Attrition'] == 1\n",
    "no_attrition = analysis_hr['Attrition'] == 0"
   ]
  },
  {
   "cell_type": "markdown",
   "metadata": {},
   "source": [
    "## 1. Univariate Exploration\n"
   ]
  },
  {
   "cell_type": "markdown",
   "metadata": {},
   "source": [
    "### 1.1. What is the age distribution among employees?\n",
    "\n",
    "In the summary statistics printed above, we see a range of age between 18-60 years old but how is it distributed across the dataset?"
   ]
  },
  {
   "cell_type": "code",
   "execution_count": 92,
   "metadata": {},
   "outputs": [
    {
     "data": {
      "text/plain": [
       "count    1470.000000\n",
       "mean       36.923810\n",
       "std         9.135373\n",
       "min        18.000000\n",
       "25%        30.000000\n",
       "50%        36.000000\n",
       "75%        43.000000\n",
       "max        60.000000\n",
       "Name: Age, dtype: float64"
      ]
     },
     "execution_count": 92,
     "metadata": {},
     "output_type": "execute_result"
    }
   ],
   "source": [
    "analysis_hr['Age'].describe()"
   ]
  },
  {
   "cell_type": "code",
   "execution_count": 93,
   "metadata": {},
   "outputs": [
    {
     "data": {
      "text/plain": [
       "30    60\n",
       "31    69\n",
       "32    61\n",
       "33    58\n",
       "34    77\n",
       "35    78\n",
       "36    69\n",
       "37    50\n",
       "38    58\n",
       "39    42\n",
       "40    57\n",
       "41    40\n",
       "Name: Age, dtype: int64"
      ]
     },
     "execution_count": 93,
     "metadata": {},
     "output_type": "execute_result"
    }
   ],
   "source": [
    "ages = analysis_hr['Age'].value_counts(sort=False)\n",
    "ages.index.min()\n",
    "ages = ages.sort_index()\n",
    "ages.loc[30:41]"
   ]
  },
  {
   "cell_type": "code",
   "execution_count": 94,
   "metadata": {},
   "outputs": [
    {
     "data": {
      "image/png": "[encoded data removed]",
      "text/plain": [
       "<Figure size 1008x432 with 2 Axes>"
      ]
     },
     "metadata": {
      "needs_background": "light"
     },
     "output_type": "display_data"
    }
   ],
   "source": [
    "# age distribution\n",
    "plt.figure(figsize=(14,6))\n",
    "plt.suptitle('Employee Distribution by Age')\n",
    "plt.subplot(1,2,1)\n",
    "bins = np.arange(18, analysis_hr['Age'].max()+1,1)\n",
    "plt.hist(data=analysis_hr,x='Age', bins=bins)\n",
    "plt.ylim(top=85)\n",
    "plt.xlabel('Age')\n",
    "plt.ylabel('Employee Count');\n",
    "\n",
    "# Zoom to most concentrated peak\n",
    "plt.subplot(1,2,2)\n",
    "bins = np.arange(17.5, 60.5+1,1)\n",
    "plt.hist(data=analysis_hr,x='Age', bins=bins, rwidth=0.7)\n",
    "addlabels_top(np.arange(30,41,1), ages.loc[30:41])\n",
    "plt.xticks(np.arange(18,60+1,1))\n",
    "plt.xlim(29.5,40.5)\n",
    "plt.ylim(top=85)\n",
    "plt.xlabel('Age')\n",
    "plt.ylabel('Employee Count');"
   ]
  },
  {
   "cell_type": "markdown",
   "metadata": {},
   "source": [
    "The distribution shows that the data has one mode around the age of 35 years with 78 employees and a close second with 77 employees are aged 34."
   ]
  },
  {
   "cell_type": "markdown",
   "metadata": {},
   "source": [
    "### 1.2. Which gender attains the most employees?"
   ]
  },
  {
   "cell_type": "code",
   "execution_count": 95,
   "metadata": {},
   "outputs": [
    {
     "data": {
      "text/plain": [
       "Male      0.6\n",
       "Female    0.4\n",
       "Name: Gender, dtype: float64"
      ]
     },
     "execution_count": 95,
     "metadata": {},
     "output_type": "execute_result"
    }
   ],
   "source": [
    "gender_perc = analysis_hr['Gender'].value_counts(normalize=True)\n",
    "gender_perc"
   ]
  },
  {
   "cell_type": "code",
   "execution_count": 96,
   "metadata": {},
   "outputs": [
    {
     "data": {
      "text/plain": [
       "Male      882\n",
       "Female    588\n",
       "Name: Gender, dtype: int64"
      ]
     },
     "execution_count": 96,
     "metadata": {},
     "output_type": "execute_result"
    }
   ],
   "source": [
    "gender = analysis_hr['Gender'].value_counts()\n",
    "gender"
   ]
  },
  {
   "cell_type": "code",
   "execution_count": 97,
   "metadata": {},
   "outputs": [
    {
     "data": {
      "image/png": "[encoded data removed]",
      "text/plain": [
       "<Figure size 576x432 with 1 Axes>"
      ]
     },
     "metadata": {
      "needs_background": "light"
     },
     "output_type": "display_data"
    }
   ],
   "source": [
    "plt.figure(figsize=(8,6))\n",
    "\n",
    "sb.countplot(data=analysis_hr, x='Gender', color=sb.color_palette()[0])\n",
    "plt.ylabel('Employee Count')\n",
    "plt.xlabel('Gender')\n",
    "addlabels(['Male','Female'], analysis_hr['Gender'].value_counts())\n",
    "plt.title('Employee Distribution by Gender');"
   ]
  },
  {
   "cell_type": "markdown",
   "metadata": {},
   "source": [
    "Female employees occupy about 40% of our dataset with 588 employees while Male employees dominate with 882 occupancy that makes up the rest."
   ]
  },
  {
   "cell_type": "markdown",
   "metadata": {},
   "source": [
    "### 1.3. Which Marital Status is dominant among employees"
   ]
  },
  {
   "cell_type": "code",
   "execution_count": 98,
   "metadata": {},
   "outputs": [
    {
     "data": {
      "image/png": "[encoded data removed]",
      "text/plain": [
       "<Figure size 1008x432 with 2 Axes>"
      ]
     },
     "metadata": {
      "needs_background": "light"
     },
     "output_type": "display_data"
    }
   ],
   "source": [
    "plt.figure(figsize=(14,6))\n",
    "plt.suptitle('Employee Distribution by Marital Status')\n",
    "\n",
    "plt.subplot(1,2,1)\n",
    "sb.countplot(data=analysis_hr, x='MaritalStatus', color=sb.color_palette()[0])\n",
    "plt.ylabel('Employee Count')\n",
    "plt.xlabel('Marital Status')\n",
    "addlabels(analysis_hr['MaritalStatus'].unique(), analysis_hr['MaritalStatus'].value_counts());\n",
    "\n",
    "plt.subplot(1,2,2)\n",
    "# MaritalStatus piechart\n",
    "marital_perc = analysis_hr['MaritalStatus'].value_counts(normalize=True)\n",
    "plt.pie(marital_perc, labels=marital_perc.index,autopct='%1.1f%%',\n",
    "        shadow=True, startangle=90);"
   ]
  },
  {
   "cell_type": "markdown",
   "metadata": {},
   "source": [
    "673 married employees occupy 45.8% , 470 being single with 32% occupancy and the smallest slice are 327 divorced who are 22.2% of the entire population. "
   ]
  },
  {
   "cell_type": "markdown",
   "metadata": {},
   "source": [
    "### 1.4. Which Department is the most occupied or has more employees?"
   ]
  },
  {
   "cell_type": "code",
   "execution_count": 99,
   "metadata": {},
   "outputs": [
    {
     "data": {
      "image/png": "[encoded data removed]",
      "text/plain": [
       "<Figure size 1008x432 with 2 Axes>"
      ]
     },
     "metadata": {
      "needs_background": "light"
     },
     "output_type": "display_data"
    }
   ],
   "source": [
    "plt.figure(figsize=(14,6))\n",
    "plt.suptitle('Employee Distribution by Department')\n",
    "\n",
    "plt.subplot(1,2,2)\n",
    "sb.countplot(data=analysis_hr, x='Department', color=sb.color_palette()[0])\n",
    "plt.ylabel('Employee Count')\n",
    "plt.xlabel('Department')\n",
    "addlabels(analysis_hr['Department'].unique(), analysis_hr['Department'].value_counts());\n",
    "\n",
    "plt.subplot(1,2,1)\n",
    "# Department piechart\n",
    "department_perc = analysis_hr['Department'].value_counts(normalize=True)\n",
    "plt.pie(department_perc, labels=department_perc.index,autopct='%1.1f%%',\n",
    "        shadow=True, startangle=90);"
   ]
  },
  {
   "cell_type": "markdown",
   "metadata": {},
   "source": [
    "The dominant working department is Research and Development which has 65.4% of the employees, the Sales department has only 30.3% and Human Resources with a mere 4.3%."
   ]
  },
  {
   "cell_type": "code",
   "execution_count": 100,
   "metadata": {},
   "outputs": [
    {
     "data": {
      "image/png": "[encoded data removed]",
      "text/plain": [
       "<Figure size 720x432 with 1 Axes>"
      ]
     },
     "metadata": {
      "needs_background": "light"
     },
     "output_type": "display_data"
    }
   ],
   "source": [
    "plt.figure(figsize=(10,6))\n",
    "sb.countplot(data=analysis_hr, x='Education', color=sb.color_palette()[0])\n",
    "plt.ylabel('Employee Count')\n",
    "plt.xlabel('Educational Level')\n",
    "addlabels(analysis_hr['Education'].unique(), analysis_hr['Education'].value_counts())\n",
    "plt.title('Employee Distribution by Educational Level');"
   ]
  },
  {
   "cell_type": "markdown",
   "metadata": {},
   "source": [
    "The majority of employees have obtained a Bachelor's degree with 572 occupancy, 398 Master's degree holders, 282 having completed College, about 170 have not finished College and a mere 48 number of employees being Doctorate holders. Hence Bachelor holders occupy most of the employee population in the organization."
   ]
  },
  {
   "cell_type": "code",
   "execution_count": 101,
   "metadata": {},
   "outputs": [
    {
     "data": {
      "image/png": "[encoded data removed]",
      "text/plain": [
       "<Figure size 1008x432 with 2 Axes>"
      ]
     },
     "metadata": {
      "needs_background": "light"
     },
     "output_type": "display_data"
    }
   ],
   "source": [
    "plt.figure(figsize=(14,6))\n",
    "plt.suptitle('Employee Distribution by Business Travelling Status')\n",
    "\n",
    "plt.subplot(1,2,1)\n",
    "sb.countplot(data=analysis_hr, x='BusinessTravel', color=sb.color_palette()[0])\n",
    "plt.ylabel('Employee Count')\n",
    "plt.xlabel('Business Travelling')\n",
    "addlabels(analysis_hr['BusinessTravel'].unique(), analysis_hr['BusinessTravel'].value_counts());\n",
    "\n",
    "plt.subplot(1,2,2)\n",
    "# BusinessTravel piechart\n",
    "businessTravel_perc = analysis_hr['BusinessTravel'].value_counts(normalize=True)\n",
    "plt.pie(businessTravel_perc, labels=businessTravel_perc.index,autopct='%1.1f%%',\n",
    "        shadow=True, startangle=90);\n"
   ]
  },
  {
   "cell_type": "markdown",
   "metadata": {},
   "source": [
    "1043(71%) employees travel rarely, 277(18.8%) of them travel frequently and only 150(10.2%) of them do not travel for business in their current positions."
   ]
  },
  {
   "cell_type": "markdown",
   "metadata": {},
   "source": [
    "### 1.6. How many employees tend to work overtime?"
   ]
  },
  {
   "cell_type": "code",
   "execution_count": 102,
   "metadata": {},
   "outputs": [
    {
     "data": {
      "image/png": "[encoded data removed]",
      "text/plain": [
       "<Figure size 576x432 with 1 Axes>"
      ]
     },
     "metadata": {
      "needs_background": "light"
     },
     "output_type": "display_data"
    }
   ],
   "source": [
    "plt.figure(figsize=(8,6))\n",
    "\n",
    "sb.countplot(data=analysis_hr, x='OverTime', color=sb.color_palette()[0])\n",
    "plt.ylabel('Employee Count')\n",
    "plt.xlabel('OverTime')\n",
    "addlabels(analysis_hr['OverTime'].unique(), analysis_hr['OverTime'].value_counts())\n",
    "plt.title('Employee Distribution by Overtime Status');\n"
   ]
  },
  {
   "cell_type": "markdown",
   "metadata": {},
   "source": [
    "Only 416 employees seem to work overtime and 1054 of them tend to stick to the disputed working hours within their job role."
   ]
  },
  {
   "cell_type": "markdown",
   "metadata": {},
   "source": [
    "### 1.7. How is the Work-Life Balance for the employees?"
   ]
  },
  {
   "cell_type": "code",
   "execution_count": 103,
   "metadata": {},
   "outputs": [
    {
     "data": {
      "image/png": "[encoded data removed]",
      "text/plain": [
       "<Figure size 720x432 with 1 Axes>"
      ]
     },
     "metadata": {
      "needs_background": "light"
     },
     "output_type": "display_data"
    }
   ],
   "source": [
    "plt.figure(figsize=(10,6))\n",
    "sb.countplot(data=analysis_hr, x='WorkLifeBalance', color=sb.color_palette()[0])\n",
    "plt.ylabel('Employee Count')\n",
    "plt.xlabel('Work-Life Balance Quality')\n",
    "addlabels(analysis_hr['WorkLifeBalance'].unique(), analysis_hr['WorkLifeBalance'].value_counts())\n",
    "plt.title('Employee Distribution over the Quality of their Work-Life Balance');"
   ]
  },
  {
   "cell_type": "markdown",
   "metadata": {},
   "source": [
    "893 employees claim to have a better work-life balance, 344 with a good one, only 153 claim they have the best and a mere 80 claim to have a bad work-life balance. "
   ]
  },
  {
   "cell_type": "markdown",
   "metadata": {},
   "source": [
    "### 1.8. How involved are employees in their jobs"
   ]
  },
  {
   "cell_type": "code",
   "execution_count": 104,
   "metadata": {},
   "outputs": [
    {
     "data": {
      "image/png": "[encoded data removed]",
      "text/plain": [
       "<Figure size 720x432 with 1 Axes>"
      ]
     },
     "metadata": {
      "needs_background": "light"
     },
     "output_type": "display_data"
    }
   ],
   "source": [
    "plt.figure(figsize=(10,6))\n",
    "sb.countplot(data=analysis_hr, x='JobInvolvement', color=sb.color_palette()[0])\n",
    "plt.ylabel('Employee Count')\n",
    "plt.xlabel('Job Involvement')\n",
    "addlabels(analysis_hr['JobInvolvement'].unique(), analysis_hr['JobInvolvement'].value_counts())\n",
    "plt.title('Employee Distribution by Job Involvement');"
   ]
  },
  {
   "cell_type": "markdown",
   "metadata": {},
   "source": [
    "Most employees accounting for 868 employees tend to have a high job involvement, 375 have medium, 144 employees are very involved in their job roles, and a low involvement is only partaken by 83 employees."
   ]
  },
  {
   "cell_type": "markdown",
   "metadata": {},
   "source": [
    "### 1.9. Are employees satisfied with their current job roles?"
   ]
  },
  {
   "cell_type": "code",
   "execution_count": 105,
   "metadata": {},
   "outputs": [
    {
     "data": {
      "text/plain": [
       "Very High    0.312245\n",
       "High         0.300680\n",
       "Low          0.196599\n",
       "Medium       0.190476\n",
       "Name: JobSatisfaction, dtype: float64"
      ]
     },
     "execution_count": 105,
     "metadata": {},
     "output_type": "execute_result"
    }
   ],
   "source": [
    "analysis_hr['JobSatisfaction'].value_counts(normalize=True)"
   ]
  },
  {
   "cell_type": "code",
   "execution_count": 106,
   "metadata": {},
   "outputs": [
    {
     "data": {
      "image/png": "[encoded data removed]",
      "text/plain": [
       "<Figure size 720x432 with 1 Axes>"
      ]
     },
     "metadata": {
      "needs_background": "light"
     },
     "output_type": "display_data"
    }
   ],
   "source": [
    "plt.figure(figsize=(10,6))\n",
    "sb.countplot(data=analysis_hr, x='JobSatisfaction', color=sb.color_palette()[0])\n",
    "plt.ylabel('Employee Count')\n",
    "plt.xlabel('Job Satisfaction')\n",
    "addlabels(analysis_hr['JobSatisfaction'].unique(), analysis_hr['JobSatisfaction'].value_counts())\n",
    "plt.title('Employee Distribution by Job Satisfaction');"
   ]
  },
  {
   "cell_type": "markdown",
   "metadata": {},
   "source": [
    "Most of the employees seem to have Very High and High job satisfaction from 459 and 442 employees respectively, therefore most employees are at most very satisfied with their job. Looking at the latter, 280 employees are averagely satisfied while 289 are not satisfied with their job."
   ]
  },
  {
   "cell_type": "markdown",
   "metadata": {},
   "source": [
    "### 1.10. How do employees favor their working environment?"
   ]
  },
  {
   "cell_type": "code",
   "execution_count": 107,
   "metadata": {},
   "outputs": [
    {
     "data": {
      "image/png": "[encoded data removed]",
      "text/plain": [
       "<Figure size 720x432 with 1 Axes>"
      ]
     },
     "metadata": {
      "needs_background": "light"
     },
     "output_type": "display_data"
    }
   ],
   "source": [
    "plt.figure(figsize=(10,6))\n",
    "sb.countplot(data=analysis_hr, x='EnvironmentSatisfaction', color=sb.color_palette()[0])\n",
    "plt.ylabel('Employee Count')\n",
    "plt.xlabel('Environment Satisfaction')\n",
    "addlabels(analysis_hr['EnvironmentSatisfaction'].unique(), analysis_hr['EnvironmentSatisfaction'].value_counts())\n",
    "plt.title('Employee Distribution by Environment Satisfaction');"
   ]
  },
  {
   "cell_type": "markdown",
   "metadata": {},
   "source": [
    "453 employees and 446 employees seem to favor the work environment with High and Very High ratings while 287 and 284 employees differed in their opinions where they expressed a Medium and Low rating respectively of how satisfied they were in their environments."
   ]
  },
  {
   "cell_type": "code",
   "execution_count": 108,
   "metadata": {},
   "outputs": [],
   "source": [
    "years_curr = analysis_hr['YearsWithCurrManager'].value_counts(sort=False)"
   ]
  },
  {
   "cell_type": "code",
   "execution_count": 109,
   "metadata": {},
   "outputs": [
    {
     "ename": "KeyError",
     "evalue": "9",
     "output_type": "error",
     "traceback": [
      "\u001b[0;31m---------------------------------------------------------------------------\u001b[0m",
      "\u001b[0;31mKeyError\u001b[0m                                  Traceback (most recent call last)",
      "File \u001b[0;32m/opt/conda/envs/anaconda-2022.05-py39/lib/python3.9/site-packages/pandas/core/indexes/base.py:3621\u001b[0m, in \u001b[0;36mIndex.get_loc\u001b[0;34m(self, key, method, tolerance)\u001b[0m\n\u001b[1;32m   3620\u001b[0m \u001b[38;5;28;01mtry\u001b[39;00m:\n\u001b[0;32m-> 3621\u001b[0m     \u001b[38;5;28;01mreturn\u001b[39;00m \u001b[38;5;28;43mself\u001b[39;49m\u001b[38;5;241;43m.\u001b[39;49m\u001b[43m_engine\u001b[49m\u001b[38;5;241;43m.\u001b[39;49m\u001b[43mget_loc\u001b[49m\u001b[43m(\u001b[49m\u001b[43mcasted_key\u001b[49m\u001b[43m)\u001b[49m\n\u001b[1;32m   3622\u001b[0m \u001b[38;5;28;01mexcept\u001b[39;00m \u001b[38;5;167;01mKeyError\u001b[39;00m \u001b[38;5;28;01mas\u001b[39;00m err:\n",
      "File \u001b[0;32m/opt/conda/envs/anaconda-2022.05-py39/lib/python3.9/site-packages/pandas/_libs/index.pyx:136\u001b[0m, in \u001b[0;36mpandas._libs.index.IndexEngine.get_loc\u001b[0;34m()\u001b[0m\n",
      "File \u001b[0;32m/opt/conda/envs/anaconda-2022.05-py39/lib/python3.9/site-packages/pandas/_libs/index.pyx:163\u001b[0m, in \u001b[0;36mpandas._libs.index.IndexEngine.get_loc\u001b[0;34m()\u001b[0m\n",
      "File \u001b[0;32mpandas/_libs/hashtable_class_helper.pxi:2131\u001b[0m, in \u001b[0;36mpandas._libs.hashtable.Int64HashTable.get_item\u001b[0;34m()\u001b[0m\n",
      "File \u001b[0;32mpandas/_libs/hashtable_class_helper.pxi:2140\u001b[0m, in \u001b[0;36mpandas._libs.hashtable.Int64HashTable.get_item\u001b[0;34m()\u001b[0m\n",
      "\u001b[0;31mKeyError\u001b[0m: 9",
      "\nThe above exception was the direct cause of the following exception:\n",
      "\u001b[0;31mKeyError\u001b[0m                                  Traceback (most recent call last)",
      "Input \u001b[0;32mIn [109]\u001b[0m, in \u001b[0;36m<cell line: 18>\u001b[0;34m()\u001b[0m\n\u001b[1;32m     16\u001b[0m plt\u001b[38;5;241m.\u001b[39mxticks(np\u001b[38;5;241m.\u001b[39marange(\u001b[38;5;241m0\u001b[39m,\u001b[38;5;241m17\u001b[39m\u001b[38;5;241m+\u001b[39m\u001b[38;5;241m1\u001b[39m,\u001b[38;5;241m1\u001b[39m))\n\u001b[1;32m     17\u001b[0m plt\u001b[38;5;241m.\u001b[39mxlim(right\u001b[38;5;241m=\u001b[39m\u001b[38;5;241m10.5\u001b[39m)\n\u001b[0;32m---> 18\u001b[0m \u001b[43maddlabels_top\u001b[49m\u001b[43m(\u001b[49m\u001b[43myears_curr\u001b[49m\u001b[38;5;241;43m.\u001b[39;49m\u001b[43mindex\u001b[49m\u001b[43m[\u001b[49m\u001b[43m:\u001b[49m\u001b[38;5;241;43m11\u001b[39;49m\u001b[43m]\u001b[49m\u001b[43m,\u001b[49m\u001b[43m \u001b[49m\u001b[43myears_curr\u001b[49m\u001b[43m[\u001b[49m\u001b[43m:\u001b[49m\u001b[38;5;241;43m11\u001b[39;49m\u001b[43m]\u001b[49m\u001b[43m)\u001b[49m\n\u001b[1;32m     19\u001b[0m plt\u001b[38;5;241m.\u001b[39mxlabel(\u001b[38;5;124m'\u001b[39m\u001b[38;5;124mYears with Current Manager\u001b[39m\u001b[38;5;124m'\u001b[39m)\n\u001b[1;32m     20\u001b[0m plt\u001b[38;5;241m.\u001b[39mylabel(\u001b[38;5;124m'\u001b[39m\u001b[38;5;124mEmployee Count\u001b[39m\u001b[38;5;124m'\u001b[39m)\n",
      "Input \u001b[0;32mIn [80]\u001b[0m, in \u001b[0;36maddlabels_top\u001b[0;34m(x, y)\u001b[0m\n\u001b[1;32m      3\u001b[0m \u001b[38;5;28;01mdef\u001b[39;00m \u001b[38;5;21maddlabels_top\u001b[39m(x,y):\n\u001b[1;32m      4\u001b[0m     \u001b[38;5;28;01mfor\u001b[39;00m i \u001b[38;5;129;01min\u001b[39;00m \u001b[38;5;28mrange\u001b[39m(x\u001b[38;5;241m.\u001b[39mmin(),(x\u001b[38;5;241m.\u001b[39mmin()\u001b[38;5;241m+\u001b[39m\u001b[38;5;28mlen\u001b[39m(x))):\n\u001b[0;32m----> 5\u001b[0m         plt\u001b[38;5;241m.\u001b[39mtext(i, \u001b[43my\u001b[49m\u001b[43m[\u001b[49m\u001b[43mi\u001b[49m\u001b[43m]\u001b[49m\u001b[38;5;241m+\u001b[39m\u001b[38;5;241m2\u001b[39m, y[i], ha \u001b[38;5;241m=\u001b[39m \u001b[38;5;124m'\u001b[39m\u001b[38;5;124mcenter\u001b[39m\u001b[38;5;124m'\u001b[39m)\n",
      "File \u001b[0;32m/opt/conda/envs/anaconda-2022.05-py39/lib/python3.9/site-packages/pandas/core/series.py:958\u001b[0m, in \u001b[0;36mSeries.__getitem__\u001b[0;34m(self, key)\u001b[0m\n\u001b[1;32m    955\u001b[0m     \u001b[38;5;28;01mreturn\u001b[39;00m \u001b[38;5;28mself\u001b[39m\u001b[38;5;241m.\u001b[39m_values[key]\n\u001b[1;32m    957\u001b[0m \u001b[38;5;28;01melif\u001b[39;00m key_is_scalar:\n\u001b[0;32m--> 958\u001b[0m     \u001b[38;5;28;01mreturn\u001b[39;00m \u001b[38;5;28;43mself\u001b[39;49m\u001b[38;5;241;43m.\u001b[39;49m\u001b[43m_get_value\u001b[49m\u001b[43m(\u001b[49m\u001b[43mkey\u001b[49m\u001b[43m)\u001b[49m\n\u001b[1;32m    960\u001b[0m \u001b[38;5;28;01mif\u001b[39;00m is_hashable(key):\n\u001b[1;32m    961\u001b[0m     \u001b[38;5;66;03m# Otherwise index.get_value will raise InvalidIndexError\u001b[39;00m\n\u001b[1;32m    962\u001b[0m     \u001b[38;5;28;01mtry\u001b[39;00m:\n\u001b[1;32m    963\u001b[0m         \u001b[38;5;66;03m# For labels that don't resolve as scalars like tuples and frozensets\u001b[39;00m\n",
      "File \u001b[0;32m/opt/conda/envs/anaconda-2022.05-py39/lib/python3.9/site-packages/pandas/core/series.py:1069\u001b[0m, in \u001b[0;36mSeries._get_value\u001b[0;34m(self, label, takeable)\u001b[0m\n\u001b[1;32m   1066\u001b[0m     \u001b[38;5;28;01mreturn\u001b[39;00m \u001b[38;5;28mself\u001b[39m\u001b[38;5;241m.\u001b[39m_values[label]\n\u001b[1;32m   1068\u001b[0m \u001b[38;5;66;03m# Similar to Index.get_value, but we do not fall back to positional\u001b[39;00m\n\u001b[0;32m-> 1069\u001b[0m loc \u001b[38;5;241m=\u001b[39m \u001b[38;5;28;43mself\u001b[39;49m\u001b[38;5;241;43m.\u001b[39;49m\u001b[43mindex\u001b[49m\u001b[38;5;241;43m.\u001b[39;49m\u001b[43mget_loc\u001b[49m\u001b[43m(\u001b[49m\u001b[43mlabel\u001b[49m\u001b[43m)\u001b[49m\n\u001b[1;32m   1070\u001b[0m \u001b[38;5;28;01mreturn\u001b[39;00m \u001b[38;5;28mself\u001b[39m\u001b[38;5;241m.\u001b[39mindex\u001b[38;5;241m.\u001b[39m_get_values_for_loc(\u001b[38;5;28mself\u001b[39m, loc, label)\n",
      "File \u001b[0;32m/opt/conda/envs/anaconda-2022.05-py39/lib/python3.9/site-packages/pandas/core/indexes/base.py:3623\u001b[0m, in \u001b[0;36mIndex.get_loc\u001b[0;34m(self, key, method, tolerance)\u001b[0m\n\u001b[1;32m   3621\u001b[0m     \u001b[38;5;28;01mreturn\u001b[39;00m \u001b[38;5;28mself\u001b[39m\u001b[38;5;241m.\u001b[39m_engine\u001b[38;5;241m.\u001b[39mget_loc(casted_key)\n\u001b[1;32m   3622\u001b[0m \u001b[38;5;28;01mexcept\u001b[39;00m \u001b[38;5;167;01mKeyError\u001b[39;00m \u001b[38;5;28;01mas\u001b[39;00m err:\n\u001b[0;32m-> 3623\u001b[0m     \u001b[38;5;28;01mraise\u001b[39;00m \u001b[38;5;167;01mKeyError\u001b[39;00m(key) \u001b[38;5;28;01mfrom\u001b[39;00m \u001b[38;5;21;01merr\u001b[39;00m\n\u001b[1;32m   3624\u001b[0m \u001b[38;5;28;01mexcept\u001b[39;00m \u001b[38;5;167;01mTypeError\u001b[39;00m:\n\u001b[1;32m   3625\u001b[0m     \u001b[38;5;66;03m# If we have a listlike key, _check_indexing_error will raise\u001b[39;00m\n\u001b[1;32m   3626\u001b[0m     \u001b[38;5;66;03m#  InvalidIndexError. Otherwise we fall through and re-raise\u001b[39;00m\n\u001b[1;32m   3627\u001b[0m     \u001b[38;5;66;03m#  the TypeError.\u001b[39;00m\n\u001b[1;32m   3628\u001b[0m     \u001b[38;5;28mself\u001b[39m\u001b[38;5;241m.\u001b[39m_check_indexing_error(key)\n",
      "\u001b[0;31mKeyError\u001b[0m: 9"
     ]
    },
    {
     "data": {
      "image/png": "[encoded data removed]",
      "text/plain": [
       "<Figure size 1008x432 with 2 Axes>"
      ]
     },
     "metadata": {
      "needs_background": "light"
     },
     "output_type": "display_data"
    }
   ],
   "source": [
    "# years with curr manager distribution\n",
    "plt.figure(figsize=(14,6))\n",
    "plt.suptitle('Employee Distribution by Years with Current Manager')\n",
    "\n",
    "plt.subplot(1,2,1)\n",
    "bins = np.arange(0, analysis_hr['YearsWithCurrManager'].max()+1,1)\n",
    "plt.hist(data=analysis_hr,x='YearsWithCurrManager', bins=bins)\n",
    "plt.xticks(np.arange(0,17+1,1))\n",
    "plt.xlabel('Years with Current Manager')\n",
    "plt.ylabel('Employee Count');\n",
    "\n",
    "# Zoom to most concentrated peak\n",
    "plt.subplot(1,2,2)\n",
    "bins = np.arange(-0.5, 17.5+1,1)\n",
    "plt.hist(data=analysis_hr,x='YearsWithCurrManager', bins=bins, rwidth=0.7)\n",
    "plt.xticks(np.arange(0,17+1,1))\n",
    "plt.xlim(right=10.5)\n",
    "addlabels_top(years_curr.index[:11], years_curr[:11])\n",
    "plt.xlabel('Years with Current Manager')\n",
    "plt.ylabel('Employee Count');"
   ]
  },
  {
   "cell_type": "markdown",
   "metadata": {},
   "source": [
    "This shows a unimodal distribution of how many years the employees have worked with the current manager, and 344 employees possess the mode of 2 years working with their current manager with 0 and 7 years attaining the second and third most common years."
   ]
  },
  {
   "cell_type": "markdown",
   "metadata": {
    "tags": []
   },
   "source": [
    "### 1.11. How is the experience spectrum spread out?"
   ]
  },
  {
   "cell_type": "code",
   "execution_count": 110,
   "metadata": {},
   "outputs": [],
   "source": [
    "years_experience = analysis_hr['TotalWorkingYears'].value_counts(sort=False).sort_index()"
   ]
  },
  {
   "cell_type": "code",
   "execution_count": 111,
   "metadata": {},
   "outputs": [
    {
     "data": {
      "image/png": "[encoded data removed]",
      "text/plain": [
       "<Figure size 1008x432 with 2 Axes>"
      ]
     },
     "metadata": {
      "needs_background": "light"
     },
     "output_type": "display_data"
    }
   ],
   "source": [
    "# years of working experience distribution\n",
    "plt.figure(figsize=(14,6))\n",
    "plt.suptitle('Employee Distribution by Working Experience')\n",
    "\n",
    "plt.subplot(1,2,1)\n",
    "bins = np.arange(0, analysis_hr['TotalWorkingYears'].max()+1,1)\n",
    "plt.hist(data=analysis_hr,x='TotalWorkingYears', bins=bins)\n",
    "# plt.xticks(np.arange(0,17+1,1))\n",
    "plt.xlabel('Years Working Experience')\n",
    "plt.ylabel('Employee Count');\n",
    "\n",
    "# Zoom to most concentrated peak\n",
    "plt.subplot(1,2,2)\n",
    "bins = np.arange(-0.5, 11.5+1,1)\n",
    "plt.hist(data=analysis_hr,x='TotalWorkingYears', bins=bins, rwidth=0.7)\n",
    "plt.xticks(np.arange(0,11+1,1))\n",
    "plt.xlim(right=12)\n",
    "addlabels_top(years_experience.index[:12], years_experience[:12])\n",
    "plt.xlabel('Years of Working Experience')\n",
    "plt.ylabel('Employee Count');"
   ]
  },
  {
   "cell_type": "markdown",
   "metadata": {},
   "source": [
    "The distribution is unimodal with most employees having 10 years of work experience. After the high peak occupied by 202 employees there is a sharp descent making it right skewed as less and less employees approach the 35-40 years of work experience."
   ]
  },
  {
   "cell_type": "code",
   "execution_count": 112,
   "metadata": {},
   "outputs": [
    {
     "data": {
      "image/png": "[encoded data removed]",
      "text/plain": [
       "<Figure size 720x432 with 1 Axes>"
      ]
     },
     "metadata": {
      "needs_background": "light"
     },
     "output_type": "display_data"
    }
   ],
   "source": [
    "plt.figure(figsize=(10,6))\n",
    "bins = np.arange(-0.5, analysis_hr['TrainingTimesLastYear'].max()+1.5,1)\n",
    "plt.hist(data=analysis_hr,x='TrainingTimesLastYear', bins=bins, rwidth=0.7)\n",
    "addlabels_top(analysis_hr['TrainingTimesLastYear'].unique(), analysis_hr['TrainingTimesLastYear'].value_counts())\n",
    "plt.xlabel('Training Times Last Year')\n",
    "plt.ylabel('Employee Count')\n",
    "plt.title(\"Employees' Training Times Last Year\");"
   ]
  },
  {
   "cell_type": "markdown",
   "metadata": {},
   "source": [
    "Majority of employees accounting for 547 of them trained 2 times last year while 491 of them trained 3 times. While only 54 of the employees did not train at all, 65 trained the most of 6 times in the past year."
   ]
  },
  {
   "cell_type": "code",
   "execution_count": 113,
   "metadata": {},
   "outputs": [
    {
     "data": {
      "image/png": "[encoded data removed]",
      "text/plain": [
       "<Figure size 720x432 with 1 Axes>"
      ]
     },
     "metadata": {
      "needs_background": "light"
     },
     "output_type": "display_data"
    }
   ],
   "source": [
    "plt.figure(figsize=(10,6))\n",
    "bins = np.arange(-0.5, analysis_hr['YearsSinceLastPromotion'].max()+1.5,1)\n",
    "plt.hist(data=analysis_hr,x='YearsSinceLastPromotion', bins=bins, rwidth=0.7)\n",
    "addlabels_top(analysis_hr['YearsSinceLastPromotion'].unique(), analysis_hr['YearsSinceLastPromotion'].value_counts())\n",
    "plt.xlabel('Years Since Last Promotion')\n",
    "plt.ylabel('Employee Count')\n",
    "plt.title(\"Years Since Employees' Last Promotion\")\n",
    "plt.xticks(np.arange(0,15+1,1));"
   ]
  },
  {
   "cell_type": "markdown",
   "metadata": {},
   "source": [
    "A large portion of 581 employees may have been promoted within the current year or just have joined the company, while 357 have been promoted a year back and a continous decrease with small peaks along to 15 years where 13 employees were last promoted."
   ]
  },
  {
   "cell_type": "code",
   "execution_count": 114,
   "metadata": {},
   "outputs": [
    {
     "data": {
      "text/plain": [
       "11"
      ]
     },
     "execution_count": 114,
     "metadata": {},
     "output_type": "execute_result"
    }
   ],
   "source": [
    "percent_hike = analysis_hr['PercentSalaryHike'].value_counts()\n",
    "percent_hike.index.min()"
   ]
  },
  {
   "cell_type": "code",
   "execution_count": 115,
   "metadata": {},
   "outputs": [
    {
     "data": {
      "image/png": "[encoded data removed]",
      "text/plain": [
       "<Figure size 720x432 with 1 Axes>"
      ]
     },
     "metadata": {
      "needs_background": "light"
     },
     "output_type": "display_data"
    }
   ],
   "source": [
    "plt.figure(figsize=(10,6))\n",
    "bins = np.arange(10.5, analysis_hr['PercentSalaryHike'].max()+1.5,1)\n",
    "plt.hist(data=analysis_hr,x='PercentSalaryHike', bins=bins, rwidth=0.7)\n",
    "addlabels_top(percent_hike.index, percent_hike)\n",
    "plt.xlabel('Salary Hike (%)')\n",
    "plt.ylabel('Employee Count')\n",
    "plt.title(\"Employees' Percentage Salary Hike\")\n",
    "plt.xticks(np.arange(11,25+1,1));"
   ]
  },
  {
   "cell_type": "markdown",
   "metadata": {},
   "source": [
    "The salary hike almost presents a bimodal distribution on 11 and 13% salary increase for 210 and 211 employees respectively, it also shows that the higher the percentage the decrease in the number of employees. Therefore a higher percentage salary increase is not as common as the lower range but it is atleast greater than 10%."
   ]
  },
  {
   "cell_type": "code",
   "execution_count": 116,
   "metadata": {},
   "outputs": [
    {
     "data": {
      "text/plain": [
       "1    521\n",
       "0    197\n",
       "3    159\n",
       "2    146\n",
       "4    139\n",
       "7     74\n",
       "6     70\n",
       "5     63\n",
       "9     52\n",
       "8     49\n",
       "Name: NumCompaniesWorked, dtype: int64"
      ]
     },
     "execution_count": 116,
     "metadata": {},
     "output_type": "execute_result"
    }
   ],
   "source": [
    "companies_worked = analysis_hr['NumCompaniesWorked'].value_counts()\n",
    "companies_worked"
   ]
  },
  {
   "cell_type": "code",
   "execution_count": 117,
   "metadata": {},
   "outputs": [
    {
     "data": {
      "image/png": "[encoded data removed]",
      "text/plain": [
       "<Figure size 720x432 with 1 Axes>"
      ]
     },
     "metadata": {
      "needs_background": "light"
     },
     "output_type": "display_data"
    }
   ],
   "source": [
    "plt.figure(figsize=(10,6))\n",
    "bins = np.arange(-0.5, analysis_hr['NumCompaniesWorked'].max()+1.5,1)\n",
    "plt.hist(data=analysis_hr,x='NumCompaniesWorked', bins=bins, rwidth=0.7)\n",
    "addlabels_top(companies_worked.index, companies_worked)\n",
    "plt.xlabel('Number of Companies Worked')\n",
    "plt.ylabel('Employee Count')\n",
    "plt.title(\"Number of Companies\")\n",
    "plt.xticks(np.arange(0,9+1,1));"
   ]
  },
  {
   "cell_type": "markdown",
   "metadata": {},
   "source": [
    "### Conclusion\n",
    "\n",
    "There were no transformations applied to the data except when making pie-charts where propotions was used instead of value counts and `TotalWokingYears` seems to have fewer employees as the number increased. Hence the data was commonly skewed to the right with many of them being unimodal.\n",
    "\n",
    "\n",
    "\n",
    "Changing datatypes for `OverTime` and `Attrition` to boolean values while the rest of the 'object' datatypes was split into ordered categories and unordered categories.\n",
    "There was no further cleaning needed as the data was relatively clean instead, because of the many variable, I trimmed it down to 11 columns from 35."
   ]
  },
  {
   "cell_type": "markdown",
   "metadata": {},
   "source": [
    "## 2. Bivariate Exploration\n"
   ]
  },
  {
   "cell_type": "markdown",
   "metadata": {},
   "source": [
    "### 2.1. How does categorical features affect attrition?\n",
    "\n",
    "As seen previously `MaritalStatus` had a high attrition risk in the Single group, but how does that compare to the rest of the groups when it comes to attrition."
   ]
  },
  {
   "cell_type": "code",
   "execution_count": 118,
   "metadata": {},
   "outputs": [
    {
     "data": {
      "text/plain": [
       "MaritalStatus\n",
       "Divorced    0.100917\n",
       "Married     0.124814\n",
       "Single      0.255319\n",
       "Name: Attrition, dtype: float64"
      ]
     },
     "metadata": {},
     "output_type": "display_data"
    },
    {
     "data": {
      "text/plain": [
       "EnvironmentSatisfaction\n",
       "Low          0.253521\n",
       "Medium       0.149826\n",
       "High         0.136865\n",
       "Very High    0.134529\n",
       "Name: Attrition, dtype: float64"
      ]
     },
     "metadata": {},
     "output_type": "display_data"
    },
    {
     "data": {
      "text/plain": [
       "BusinessTravel\n",
       "Non-Travel           0.080000\n",
       "Travel_Rarely        0.149569\n",
       "Travel_Frequently    0.249097\n",
       "Name: Attrition, dtype: float64"
      ]
     },
     "metadata": {},
     "output_type": "display_data"
    },
    {
     "data": {
      "text/plain": [
       "WorkLifeBalance\n",
       "Bad       0.312500\n",
       "Good      0.168605\n",
       "Better    0.142217\n",
       "Best      0.176471\n",
       "Name: Attrition, dtype: float64"
      ]
     },
     "metadata": {},
     "output_type": "display_data"
    },
    {
     "data": {
      "text/plain": [
       "OverTime\n",
       "False    0.104364\n",
       "True     0.305288\n",
       "Name: Attrition, dtype: float64"
      ]
     },
     "metadata": {},
     "output_type": "display_data"
    },
    {
     "data": {
      "text/plain": [
       "JobInvolvement\n",
       "Low          0.337349\n",
       "Medium       0.189333\n",
       "High         0.144009\n",
       "Very High    0.090278\n",
       "Name: Attrition, dtype: float64"
      ]
     },
     "metadata": {},
     "output_type": "display_data"
    }
   ],
   "source": [
    "# categorical group attrition means\n",
    "df_ms = analysis_hr.groupby('MaritalStatus')['Attrition'].mean()\n",
    "display(df_ms)\n",
    "\n",
    "df_env = analysis_hr.groupby('EnvironmentSatisfaction')['Attrition'].mean()\n",
    "display(df_env)\n",
    "\n",
    "df_travel = analysis_hr.groupby('BusinessTravel')['Attrition'].mean()\n",
    "display(df_travel)\n",
    "\n",
    "df_workLife = analysis_hr.groupby('WorkLifeBalance')['Attrition'].mean()\n",
    "display(df_workLife)\n",
    "\n",
    "df_ot = analysis_hr.groupby('OverTime')['Attrition'].mean()\n",
    "display(df_ot)\n",
    "\n",
    "df_involved = analysis_hr.groupby('JobInvolvement')['Attrition'].mean()\n",
    "display(df_involved)"
   ]
  },
  {
   "cell_type": "code",
   "execution_count": 119,
   "metadata": {},
   "outputs": [
    {
     "name": "stdout",
     "output_type": "stream",
     "text": [
      "Divorced\n",
      "Married\n",
      "Single\n"
     ]
    }
   ],
   "source": [
    "for x in df_ms.index:\n",
    "    print(x)"
   ]
  },
  {
   "cell_type": "code",
   "execution_count": 120,
   "metadata": {},
   "outputs": [],
   "source": [
    "def max_spotlight(df):\n",
    "    \n",
    "    max_color = ['grey' if (x < df.max()) else 'darkorange' for x in df]\n",
    "    return max_color"
   ]
  },
  {
   "cell_type": "code",
   "execution_count": 121,
   "metadata": {},
   "outputs": [
    {
     "data": {
      "image/png": "[encoded data removed]",
      "text/plain": [
       "<Figure size 1008x432 with 2 Axes>"
      ]
     },
     "metadata": {
      "needs_background": "light"
     },
     "output_type": "display_data"
    }
   ],
   "source": [
    "plt.figure(figsize=(14,6))\n",
    "\n",
    "plt.suptitle('Marital Status vs Attrition')\n",
    "plt.subplot(1,2,1)\n",
    "sb.countplot(data=analysis_hr, hue='Attrition', x='MaritalStatus')\n",
    "plt.ylabel('Employee Count')\n",
    "plt.xlabel('Attrition Status');\n",
    "\n",
    "plt.subplot(1,2,2)\n",
    "sb.barplot(x=df_ms.index, y=df_ms, palette=max_spotlight(df_ms.sort_values()))\n",
    "plt.ylabel('Attrition Mean')\n",
    "plt.xlabel('Marital Status');"
   ]
  },
  {
   "cell_type": "markdown",
   "metadata": {},
   "source": [
    "Single employees occupy 32% of the Marital Status Demographic but highlighted a large attrition group mean of 25.53%, ~205% and ~253% increase compared to its counterparts Married and Divorced respectively. Hence, keeping in mind the global rate being 16%, the Single employee group have an attrition risk of ~1.60 *(25.53/16)* resulting in high risk for attrition.  The latter Married and Divorced employees are at low risk of attrition as their risks are lower than 1."
   ]
  },
  {
   "cell_type": "code",
   "execution_count": 122,
   "metadata": {},
   "outputs": [
    {
     "data": {
      "image/png": "[encoded data removed]",
      "text/plain": [
       "<Figure size 1008x432 with 2 Axes>"
      ]
     },
     "metadata": {
      "needs_background": "light"
     },
     "output_type": "display_data"
    }
   ],
   "source": [
    "plt.figure(figsize=(14,6))\n",
    "\n",
    "plt.suptitle('Environment Satisfaction vs Attrition')\n",
    "plt.subplot(1,2,1)\n",
    "sb.countplot(data=analysis_hr, hue='Attrition', x='EnvironmentSatisfaction')\n",
    "plt.ylabel('Employee Count')\n",
    "plt.xlabel('Environment Satisfaction Rating');\n",
    "\n",
    "plt.subplot(1,2,2)\n",
    "sb.barplot(x=df_env.index, y=df_env, palette=max_spotlight(df_env))\n",
    "plt.ylabel('Attrition Mean')\n",
    "plt.xlabel('Environment Satisfaction Rating');"
   ]
  },
  {
   "cell_type": "markdown",
   "metadata": {},
   "source": [
    "`EnvironmentSatisfaction` variable exudes a negetive correlation as seen above on the figure to the right, the higher the satisfaction rating the lower the risk for employees to be part of the attrition sample. Employees who rated a low satisfaction for their environment are seen to have an attrition rate of 25.35%, a 2 times increase compared to other ratings, also resulting in high attrition risk."
   ]
  },
  {
   "cell_type": "code",
   "execution_count": 123,
   "metadata": {},
   "outputs": [
    {
     "data": {
      "image/png": "[encoded data removed]",
      "text/plain": [
       "<Figure size 1008x432 with 2 Axes>"
      ]
     },
     "metadata": {
      "needs_background": "light"
     },
     "output_type": "display_data"
    }
   ],
   "source": [
    "plt.figure(figsize=(14,6))\n",
    "\n",
    "plt.suptitle('Business Travel vs Attrition')\n",
    "plt.subplot(1,2,1)\n",
    "sb.countplot(data=analysis_hr, hue='Attrition', x='BusinessTravel')\n",
    "plt.ylabel('Employee Count')\n",
    "plt.xlabel('Business Travel Status');\n",
    "\n",
    "plt.subplot(1,2,2)\n",
    "sb.barplot(x=df_travel.index, y=df_travel, palette=max_spotlight(df_travel))\n",
    "plt.ylabel('Attrition Mean')\n",
    "plt.xlabel('Business Travel Status');"
   ]
  },
  {
   "cell_type": "markdown",
   "metadata": {},
   "source": [
    "Business travel frequency seems to have a positive effect/correlation on the average attrition rate for the group. As seen from Non-Travel employees have an 8% chance to leave the company which is 2 times less likely than any other employees. Employees who Travel_Rarely have a 1.87 times increase of being part of the attrition sample compared to its first counterpart. An attrition mean which resulted to be the highest in the group with 24.91% and qualifies as high risk, are employees with an approximate of 156% increased likelihood to be part of the attrition sample Travel_Frequently than the rest."
   ]
  },
  {
   "cell_type": "code",
   "execution_count": 124,
   "metadata": {},
   "outputs": [
    {
     "data": {
      "image/png": "[encoded data removed]",
      "text/plain": [
       "<Figure size 1008x432 with 2 Axes>"
      ]
     },
     "metadata": {
      "needs_background": "light"
     },
     "output_type": "display_data"
    }
   ],
   "source": [
    "plt.figure(figsize=(14,6))\n",
    "\n",
    "plt.suptitle('Work-Life Balance vs Attrition')\n",
    "plt.subplot(1,2,1)\n",
    "sb.countplot(data=analysis_hr, hue='Attrition', x='WorkLifeBalance')\n",
    "plt.ylabel('Employee Count')\n",
    "plt.xlabel('Work-Life Balance Rating');\n",
    "\n",
    "plt.subplot(1,2,2)\n",
    "sb.barplot(x=df_workLife.index, y=df_workLife, palette=max_spotlight(df_workLife))\n",
    "plt.ylabel('Attrition Mean')\n",
    "plt.xlabel('Work-Life Balance Rating');"
   ]
  },
  {
   "cell_type": "markdown",
   "metadata": {},
   "source": [
    "The `WorkLifeBalance` vs `Attrition` mean resembles an unusual distribution where going up in work-life balance ratings the mean was decreasing, till we got to the Best rating where a sudden raise occured surpassing the Good rating by 0.79%. This outcome resulted in the rating making its stand as second to the Bad rating of ~177% increase of 31.25% average attrition for employees within this category. The sudden spike/increase will further be investigated so as to uncover as to why an employee with the best work-life balance would be part of the attrition sample."
   ]
  },
  {
   "cell_type": "code",
   "execution_count": 125,
   "metadata": {},
   "outputs": [
    {
     "data": {
      "image/png": "[encoded data removed]",
      "text/plain": [
       "<Figure size 1008x432 with 2 Axes>"
      ]
     },
     "metadata": {
      "needs_background": "light"
     },
     "output_type": "display_data"
    }
   ],
   "source": [
    "plt.figure(figsize=(14,6))\n",
    "\n",
    "plt.suptitle('Working Over-Time vs Attrition')\n",
    "plt.subplot(1,2,1)\n",
    "sb.countplot(data=analysis_hr, hue='Attrition', x='OverTime')\n",
    "plt.ylabel('Employee Count')\n",
    "plt.xlabel('Over-Time Status');\n",
    "\n",
    "plt.subplot(1,2,2)\n",
    "sb.barplot(x=df_ot.index, y=df_ot, palette=max_spotlight(df_ot))\n",
    "plt.ylabel('Attrition Mean')\n",
    "plt.xlabel('Over-Time Status');"
   ]
  },
  {
   "cell_type": "markdown",
   "metadata": {},
   "source": [
    "Employees who work Over-Time have a significantly higher attrition rate of 30.53% compared to the 10.44% of the employees who do not. Hence employees who tend to work past standard hours have a higher attrition risk than those who do not."
   ]
  },
  {
   "cell_type": "code",
   "execution_count": 126,
   "metadata": {},
   "outputs": [
    {
     "data": {
      "image/png": "[encoded data removed]",
      "text/plain": [
       "<Figure size 1008x432 with 2 Axes>"
      ]
     },
     "metadata": {
      "needs_background": "light"
     },
     "output_type": "display_data"
    }
   ],
   "source": [
    "plt.figure(figsize=(14,6))\n",
    "\n",
    "plt.suptitle('Job Involvement vs Attrition')\n",
    "plt.subplot(1,2,1)\n",
    "sb.countplot(data=analysis_hr, hue='Attrition', x='JobInvolvement')\n",
    "plt.ylabel('Employee Count')\n",
    "plt.xlabel('Job Involvement Rating');\n",
    "\n",
    "plt.subplot(1,2,2)\n",
    "sb.barplot(x=df_involved.index, y=df_involved, palette=max_spotlight(df_involved))\n",
    "plt.ylabel('Attrition Mean')\n",
    "plt.xlabel('Job Involvement Rating');"
   ]
  },
  {
   "cell_type": "markdown",
   "metadata": {},
   "source": [
    "`JobInvolvement` and `Attrition` are negatively correlated where the more involved the employees are in their job, the less likely they are to contribute to the attrition rate. Employees who have Low involvement have a higher risk of 33.73% attrition rate while those who have Medium and High involvement tend to have the same risk as the rest of the employees. Employees who have Very High job involvement have a low risk which is ~1.78% lower than the global rate."
   ]
  },
  {
   "cell_type": "markdown",
   "metadata": {},
   "source": [
    "### 2.2 Does the company disregard Work Experience irregardless of Age?"
   ]
  },
  {
   "cell_type": "code",
   "execution_count": 127,
   "metadata": {},
   "outputs": [
    {
     "data": {
      "image/png": "[encoded data removed]",
      "text/plain": [
       "<Figure size 576x432 with 1 Axes>"
      ]
     },
     "metadata": {
      "needs_background": "light"
     },
     "output_type": "display_data"
    }
   ],
   "source": [
    "# Age vs TotalWorkingYears\n",
    "plt.figure(figsize=(8,6))\n",
    "sb.regplot(data=analysis_hr,x='Age', y='TotalWorkingYears', x_jitter=0.7, scatter_kws={'alpha':1/5})\n",
    "plt.title('Correlation between Age vs Number of Working Years');"
   ]
  },
  {
   "cell_type": "markdown",
   "metadata": {},
   "source": [
    "`Age` and `TotalWorkingYears` seems highly positively correlated clearly justifying that as employees age, their working years also increases but also depends on when the employee started working. The visualization that some start working from 18 while others start when the are older. Lets see a heatmap representation of this visual."
   ]
  },
  {
   "cell_type": "code",
   "execution_count": 128,
   "metadata": {},
   "outputs": [
    {
     "data": {
      "image/png": "[encoded data removed]",
      "text/plain": [
       "<Figure size 576x432 with 2 Axes>"
      ]
     },
     "metadata": {
      "needs_background": "light"
     },
     "output_type": "display_data"
    }
   ],
   "source": [
    "# Age vs TotalWorkingYears\n",
    "plt.figure(figsize=(8,6))\n",
    "plt.hist2d(data=analysis_hr,x='Age', y='TotalWorkingYears', cmin=0.5, cmap='viridis_r')\n",
    "plt.title('Correlation between Age vs Number of Working Years')\n",
    "plt.colorbar(label='Employee Frequency')\n",
    "plt.xlabel('Age')\n",
    "plt.ylabel('Total Working Years');"
   ]
  },
  {
   "cell_type": "markdown",
   "metadata": {},
   "source": [
    "Many employees aged between 30-35 years seem to have atleast 10 years of working experience, while also discovering some employees who are approximately 40 years to 60 have little to no working experience. This highlights age diversity within the company as it shows no age limit for occupancy."
   ]
  },
  {
   "cell_type": "markdown",
   "metadata": {},
   "source": [
    "### Conclusion\n",
    "\n",
    "Among the 6 categorical features which showed some values which gave a high attrition risk, there was the `WorkLifeBalance` feature. This feature has a high attrition risk for employees with bad work-life balance and seems the rate was decreasing and was supposed to keep on decreasing to the group of employees with the best work-life balance, but this group had a sudden peak surpassing those employees with Good and Better work-life balance. This effect became a subject to further investigate into the reason of why employees with the best work-life balance tend to have 1.65% more attrition rate than the global rate.\n",
    "The employee demographic marital status, showed that employees who are single tend to contribute more to a higher attrition rate than the global rate.\n",
    "\n",
    "\n",
    "\n",
    "After uncovering relationships with categorical features I moved on to explore correlation with numerical features. Though the numerical features had no correlation with the target `Attrition` there is one that I decided to delve into, Age vs Number of Working Years. It was surprising to uncover that some employees who are approximately 40 years up to 60 years have little to no experience, but also highlights the company accepts employees of different ages irregardless of their work experience."
   ]
  },
  {
   "cell_type": "markdown",
   "metadata": {},
   "source": [
    "## Multivariate Exploration\n",
    "\n",
    "### 3.1 What are the possible factors that elevates the Attrition rate for employees with the best work-life balance?\n",
    "\n",
    "The `WorkLifeBalance` feature relationship with the `Attrition` target feature resulted in an unexpected correlation. Let us explore why that turned out as it did by paring it with features that seem to meddle with work-life quality."
   ]
  },
  {
   "cell_type": "code",
   "execution_count": 136,
   "metadata": {},
   "outputs": [
    {
     "data": {
      "text/html": [
       "<div>\n",
       "<style scoped>\n",
       "    .dataframe tbody tr th:only-of-type {\n",
       "        vertical-align: middle;\n",
       "    }\n",
       "\n",
       "    .dataframe tbody tr th {\n",
       "        vertical-align: top;\n",
       "    }\n",
       "\n",
       "    .dataframe thead th {\n",
       "        text-align: right;\n",
       "    }\n",
       "</style>\n",
       "<table border=\"1\" class=\"dataframe\">\n",
       "  <thead>\n",
       "    <tr style=\"text-align: right;\">\n",
       "      <th></th>\n",
       "      <th>WorkLifeBalance</th>\n",
       "      <th>EnvironmentSatisfaction</th>\n",
       "      <th>Attrition</th>\n",
       "    </tr>\n",
       "  </thead>\n",
       "  <tbody>\n",
       "    <tr>\n",
       "      <th>0</th>\n",
       "      <td>Bad</td>\n",
       "      <td>Low</td>\n",
       "      <td>45.000000</td>\n",
       "    </tr>\n",
       "    <tr>\n",
       "      <th>1</th>\n",
       "      <td>Bad</td>\n",
       "      <td>Medium</td>\n",
       "      <td>23.076923</td>\n",
       "    </tr>\n",
       "    <tr>\n",
       "      <th>2</th>\n",
       "      <td>Bad</td>\n",
       "      <td>High</td>\n",
       "      <td>18.181818</td>\n",
       "    </tr>\n",
       "    <tr>\n",
       "      <th>3</th>\n",
       "      <td>Bad</td>\n",
       "      <td>Very High</td>\n",
       "      <td>36.000000</td>\n",
       "    </tr>\n",
       "    <tr>\n",
       "      <th>4</th>\n",
       "      <td>Good</td>\n",
       "      <td>Low</td>\n",
       "      <td>16.417910</td>\n",
       "    </tr>\n",
       "    <tr>\n",
       "      <th>5</th>\n",
       "      <td>Good</td>\n",
       "      <td>Medium</td>\n",
       "      <td>16.666667</td>\n",
       "    </tr>\n",
       "    <tr>\n",
       "      <th>6</th>\n",
       "      <td>Good</td>\n",
       "      <td>High</td>\n",
       "      <td>18.000000</td>\n",
       "    </tr>\n",
       "    <tr>\n",
       "      <th>7</th>\n",
       "      <td>Good</td>\n",
       "      <td>Very High</td>\n",
       "      <td>16.161616</td>\n",
       "    </tr>\n",
       "    <tr>\n",
       "      <th>8</th>\n",
       "      <td>Better</td>\n",
       "      <td>Low</td>\n",
       "      <td>23.952096</td>\n",
       "    </tr>\n",
       "    <tr>\n",
       "      <th>9</th>\n",
       "      <td>Better</td>\n",
       "      <td>Medium</td>\n",
       "      <td>13.450292</td>\n",
       "    </tr>\n",
       "    <tr>\n",
       "      <th>10</th>\n",
       "      <td>Better</td>\n",
       "      <td>High</td>\n",
       "      <td>12.589928</td>\n",
       "    </tr>\n",
       "    <tr>\n",
       "      <th>11</th>\n",
       "      <td>Better</td>\n",
       "      <td>Very High</td>\n",
       "      <td>10.469314</td>\n",
       "    </tr>\n",
       "    <tr>\n",
       "      <th>12</th>\n",
       "      <td>Best</td>\n",
       "      <td>Low</td>\n",
       "      <td>40.000000</td>\n",
       "    </tr>\n",
       "    <tr>\n",
       "      <th>13</th>\n",
       "      <td>Best</td>\n",
       "      <td>Medium</td>\n",
       "      <td>16.000000</td>\n",
       "    </tr>\n",
       "    <tr>\n",
       "      <th>14</th>\n",
       "      <td>Best</td>\n",
       "      <td>High</td>\n",
       "      <td>9.433962</td>\n",
       "    </tr>\n",
       "    <tr>\n",
       "      <th>15</th>\n",
       "      <td>Best</td>\n",
       "      <td>Very High</td>\n",
       "      <td>13.333333</td>\n",
       "    </tr>\n",
       "  </tbody>\n",
       "</table>\n",
       "</div>"
      ],
      "text/plain": [
       "   WorkLifeBalance EnvironmentSatisfaction  Attrition\n",
       "0              Bad                     Low  45.000000\n",
       "1              Bad                  Medium  23.076923\n",
       "2              Bad                    High  18.181818\n",
       "3              Bad               Very High  36.000000\n",
       "4             Good                     Low  16.417910\n",
       "5             Good                  Medium  16.666667\n",
       "6             Good                    High  18.000000\n",
       "7             Good               Very High  16.161616\n",
       "8           Better                     Low  23.952096\n",
       "9           Better                  Medium  13.450292\n",
       "10          Better                    High  12.589928\n",
       "11          Better               Very High  10.469314\n",
       "12            Best                     Low  40.000000\n",
       "13            Best                  Medium  16.000000\n",
       "14            Best                    High   9.433962\n",
       "15            Best               Very High  13.333333"
      ]
     },
     "metadata": {},
     "output_type": "display_data"
    }
   ],
   "source": [
    "df_envSatisLife = analysis_hr.groupby(['WorkLifeBalance','EnvironmentSatisfaction'], as_index=False)['Attrition'].mean()\n",
    "df_envSatisLife['Attrition'] = df_envSatisLife['Attrition'] * 100\n",
    "display(df_envSatisLife)"
   ]
  },
  {
   "cell_type": "code",
   "execution_count": 152,
   "metadata": {},
   "outputs": [
    {
     "data": {
      "image/png": "[encoded data removed]",
      "text/plain": [
       "<Figure size 540x432 with 4 Axes>"
      ]
     },
     "metadata": {
      "needs_background": "light"
     },
     "output_type": "display_data"
    }
   ],
   "source": [
    "g = sb.FacetGrid(data=df_envSatisLife, col='EnvironmentSatisfaction', col_wrap=2, aspect=1.25)\n",
    "g.map(sb.barplot, 'WorkLifeBalance', 'Attrition', order=df_workLife.index)\n",
    "g.set(ylabel='Attrition Rate (%)');"
   ]
  },
  {
   "cell_type": "code",
   "execution_count": 142,
   "metadata": {},
   "outputs": [
    {
     "data": {
      "text/html": [
       "<div>\n",
       "<style scoped>\n",
       "    .dataframe tbody tr th:only-of-type {\n",
       "        vertical-align: middle;\n",
       "    }\n",
       "\n",
       "    .dataframe tbody tr th {\n",
       "        vertical-align: top;\n",
       "    }\n",
       "\n",
       "    .dataframe thead th {\n",
       "        text-align: right;\n",
       "    }\n",
       "</style>\n",
       "<table border=\"1\" class=\"dataframe\">\n",
       "  <thead>\n",
       "    <tr style=\"text-align: right;\">\n",
       "      <th></th>\n",
       "      <th>WorkLifeBalance</th>\n",
       "      <th>OverTime</th>\n",
       "      <th>BusinessTravel</th>\n",
       "      <th>Attrition</th>\n",
       "    </tr>\n",
       "  </thead>\n",
       "  <tbody>\n",
       "    <tr>\n",
       "      <th>0</th>\n",
       "      <td>Bad</td>\n",
       "      <td>False</td>\n",
       "      <td>Non-Travel</td>\n",
       "      <td>12.500000</td>\n",
       "    </tr>\n",
       "    <tr>\n",
       "      <th>1</th>\n",
       "      <td>Bad</td>\n",
       "      <td>False</td>\n",
       "      <td>Travel_Rarely</td>\n",
       "      <td>24.390244</td>\n",
       "    </tr>\n",
       "    <tr>\n",
       "      <th>2</th>\n",
       "      <td>Bad</td>\n",
       "      <td>False</td>\n",
       "      <td>Travel_Frequently</td>\n",
       "      <td>44.444444</td>\n",
       "    </tr>\n",
       "    <tr>\n",
       "      <th>3</th>\n",
       "      <td>Bad</td>\n",
       "      <td>True</td>\n",
       "      <td>Non-Travel</td>\n",
       "      <td>NaN</td>\n",
       "    </tr>\n",
       "    <tr>\n",
       "      <th>4</th>\n",
       "      <td>Bad</td>\n",
       "      <td>True</td>\n",
       "      <td>Travel_Rarely</td>\n",
       "      <td>44.444444</td>\n",
       "    </tr>\n",
       "  </tbody>\n",
       "</table>\n",
       "</div>"
      ],
      "text/plain": [
       "  WorkLifeBalance  OverTime     BusinessTravel  Attrition\n",
       "0             Bad     False         Non-Travel  12.500000\n",
       "1             Bad     False      Travel_Rarely  24.390244\n",
       "2             Bad     False  Travel_Frequently  44.444444\n",
       "3             Bad      True         Non-Travel        NaN\n",
       "4             Bad      True      Travel_Rarely  44.444444"
      ]
     },
     "metadata": {},
     "output_type": "display_data"
    }
   ],
   "source": [
    "df_OvertimeLife = analysis_hr.groupby(['WorkLifeBalance','OverTime','BusinessTravel'], as_index=False)['Attrition'].mean()\n",
    "df_OvertimeLife['Attrition'] = df_OvertimeLife['Attrition'] * 100\n",
    "display(df_OvertimeLife.head())"
   ]
  },
  {
   "cell_type": "code",
   "execution_count": 153,
   "metadata": {
    "scrolled": true
   },
   "outputs": [
    {
     "data": {
      "image/png": "[encoded data removed]",
      "text/plain": [
       "<Figure size 648x648 with 6 Axes>"
      ]
     },
     "metadata": {
      "needs_background": "light"
     },
     "output_type": "display_data"
    }
   ],
   "source": [
    "g = sb.FacetGrid(data=df_OvertimeLife, col='OverTime',row='BusinessTravel', aspect=1.5)\n",
    "g.map(sb.barplot, 'WorkLifeBalance', 'Attrition', order=df_workLife.index)\n",
    "g.set(ylabel='Attrition Rate (%)');"
   ]
  },
  {
   "cell_type": "code",
   "execution_count": 155,
   "metadata": {},
   "outputs": [
    {
     "name": "stdout",
     "output_type": "stream",
     "text": [
      "WorkLifeBalance\n",
      "Bad      -0.072500\n",
      "Good     -0.028605\n",
      "Better   -0.032217\n",
      "Best     -0.096471\n",
      "Name: Attrition, dtype: float64\n"
     ]
    }
   ],
   "source": [
    "mask_a = analysis_hr['BusinessTravel'] != 'Travel_Frequently'\n",
    "mask_b = analysis_hr['EnvironmentSatisfaction'] != 'Low'\n",
    "masked_hr = analysis_hr.query('@mask_a and @mask_b')\n",
    "\n",
    "wl_attr = round(masked_hr.groupby('WorkLifeBalance')['Attrition'].mean(), 2)\n",
    "print(wl_attr - df_workLife)"
   ]
  },
  {
   "cell_type": "code",
   "execution_count": 158,
   "metadata": {},
   "outputs": [
    {
     "data": {
      "image/png": "[encoded data removed]",
      "text/plain": [
       "<Figure size 432x288 with 1 Axes>"
      ]
     },
     "metadata": {
      "needs_background": "light"
     },
     "output_type": "display_data"
    }
   ],
   "source": [
    "sb.barplot(x=df_workLife.index, y=df_workLife, color=sb.color_palette(\"colorblind\")[0], saturation=0.3)\n",
    "sb.barplot(data=masked_hr, x='WorkLifeBalance', y='Attrition', color=sb.color_palette(\"colorblind\")[3], errorbar=None)\n",
    "addlabels(wl_attr.index,wl_attr)\n",
    "plt.ylabel('Attrition Mean')\n",
    "plt.xlabel('Work-Life Balance Rating');\n",
    "\n",
    "# plt.subplot(1,2,2)\n",
    "# sb.barplot(x=df_workLife.index, y=df_workLife, color=sb.color_palette()[0])\n",
    "# plt.ylabel('Attrition Mean')\n",
    "# plt.xlabel('Work-Life Balance Rating');"
   ]
  },
  {
   "cell_type": "markdown",
   "metadata": {},
   "source": [
    "After pairing features to find factors for the unusual distribution of work-life balance ratings to attrition rate, the 'best' work-life balance large attrition rates for the employees who are **frequent travellers and have low environment satisfaction**, raised suspicion on if they were the cause. Filtering the criteria out and replotting the `WorkLifeBalance` vs `Attrition` resolved the distribution into a negatively correlated outcome and shows that cutting down amount of travel and improving their work environment will reduce attrition rate as follows:\n",
    "- Bad work-life balance: **-7.25%**\n",
    "- Good work-life balance: **-2.86%**\n",
    "- Better work-life balance: **-3.22%**\n",
    "- Best work-life balance: **-9.65%**"
   ]
  },
  {
   "cell_type": "markdown",
   "metadata": {},
   "source": [
    "### Conclusion\n",
    "\n",
    "The main focus was finding the features that affect work-life balance and its relationship on the attrition rate. First looking at `EnvironmentSatisfaction` showed a higher attrition rate when employees have a low satisfaction about their work environment.\n",
    "<br><br>\n",
    "The next features I paired the relationship with was `OverTime` and `BusinessTravel`, highly impacted groups were employees who travel frequently with employees who have bad and best work-life balances being more at risk when they do not work overtime but there was a significant jump and a negative correlation produced for employees who travelled a lot and worked overtime.\n",
    "\n",
    "Some interesting features I already stated above but something surprising is seeing a high attrition rate for employees with the best work life balance and a very high environment satisfaction."
   ]
  },
  {
   "cell_type": "markdown",
   "metadata": {},
   "source": [
    "## Conclusions\n",
    "Every company once in a while would like to find out their current attrition rate, this was the aim of the analysis. Among 1470 employees, about 16% was affected by attrition and in turn, this became the attrition rate. After sourcing out the rate the next step was to discover possible factors on why employees leave the company. Firstly we found out group attrition rates for all categorical data and among them the only employee demographic that stood out was Marital Status, where Single employees are affected by 25.53% compared to the rest of the attrition sample. There was a surprising trend on the attrition rate in accordance to Work-Life Balance  of employees where one would expect a negative correlation from Bad to Best ratings but got an unusual spike on Best rating making it the second high attrition rate after Bad rating of this group. This outcome commanded further investigation hence after pairing it with other features like `EnvironmentSatisfaction` there was a similar distribution but when the employees were very satisfied with their work environment. `OverTime` and `BusinessTravel` was also included as part of the investigation. Therefore after altering the selected sample to not include those with low environment satisfaction, overtime workers and those who travel frequently for work, it resulted in the negative correlation also decreasing as follows:\n",
    "\n",
    "- Bad work-life balance: **-7.25%**\n",
    "- Good work-life balance: **-2.86%**\n",
    "- Better work-life balance: **-3.22%**\n",
    "- Best work-life balance: **-9.65%**\n",
    "\n",
    "There was also some exploration with numerical data where no strong correlation was found with the target `Attrition` but found some correlation between `Age` and `TotalWorkingYears`. The result highlighted the companies age diversity of hiring from 18-60 but also not taking regards of the number of working years/experience in regards to their age, as there were employees more than 38 years of age to 60 years who had little to no experience.\n",
    "\n",
    "Therefore by removing factors that compromises an employees work-life balance with removing frequent business travel and improving their work environment would significantly lower the companies attrition rate."
   ]
  },
  {
   "cell_type": "code",
   "execution_count": 160,
   "metadata": {},
   "outputs": [
    {
     "name": "stderr",
     "output_type": "stream",
     "text": [
      "[NbConvertApp] Converting notebook employee_attrition_analysis.ipynb to html\n",
      "[NbConvertApp] Writing 1507334 bytes to employee_attrition_analysis.html\n"
     ]
    },
    {
     "data": {
      "text/plain": [
       "0"
      ]
     },
     "execution_count": 160,
     "metadata": {},
     "output_type": "execute_result"
    }
   ],
   "source": [
    "from subprocess import call\n",
    "call(['python', '-m', 'nbconvert','--to','html', 'employee_attrition_analysis.ipynb'])"
   ]
  },
  {
   "cell_type": "code",
   "execution_count": null,
   "metadata": {},
   "outputs": [],
   "source": []
  }
 ],
 "metadata": {
  "kernelspec": {
   "display_name": "anaconda-2022.05-py39",
   "language": "python",
   "name": "conda-env-anaconda-2022.05-py39-py"
  },
  "language_info": {
   "codemirror_mode": {
    "name": "ipython",
    "version": 3
   },
   "file_extension": ".py",
   "mimetype": "text/x-python",
   "name": "python",
   "nbconvert_exporter": "python",
   "pygments_lexer": "ipython3",
   "version": "3.9.12"
  }
 },
 "nbformat": 4,
 "nbformat_minor": 4
}
